{
 "cells": [
  {
   "cell_type": "markdown",
   "id": "5d1c3360",
   "metadata": {
    "papermill": {
     "duration": 0.008504,
     "end_time": "2022-07-16T01:44:14.046619",
     "exception": false,
     "start_time": "2022-07-16T01:44:14.038115",
     "status": "completed"
    },
    "tags": []
   },
   "source": [
    "# Modelling v4\n",
    "\n",
    "modelling use the latest exploration\n",
    "\n",
    "# Goal\n",
    "\n",
    "Get the model from the prepared data. With undersampling + sample weight. \n",
    "\n",
    "# Plan\n",
    "\n",
    "Checklist what will be done on the notebook :\n",
    "\n",
    "    [*] Get Data\n",
    "    [*] Modelling\n",
    "\n"
   ]
  },
  {
   "cell_type": "code",
   "execution_count": 1,
   "id": "c039a1e0",
   "metadata": {
    "execution": {
     "iopub.execute_input": "2022-07-16T01:44:14.070540Z",
     "iopub.status.busy": "2022-07-16T01:44:14.069577Z",
     "iopub.status.idle": "2022-07-16T01:44:16.664618Z",
     "shell.execute_reply": "2022-07-16T01:44:16.662386Z"
    },
    "papermill": {
     "duration": 2.610937,
     "end_time": "2022-07-16T01:44:16.668603",
     "exception": false,
     "start_time": "2022-07-16T01:44:14.057666",
     "status": "completed"
    },
    "tags": []
   },
   "outputs": [],
   "source": [
    "import yaml\n",
    "import pandas as pd\n",
    "import matplotlib.pyplot as plt\n",
    "import os\n",
    "import joblib\n",
    "import numpy as np\n",
    "from sklearn.preprocessing import OneHotEncoder, MinMaxScaler\n",
    "from sklearn.model_selection import RandomizedSearchCV\n",
    "from sklearn.metrics import classification_report\n",
    "import seaborn as sns\n",
    "from statsmodels.graphics.mosaicplot import mosaic\n",
    "import time\n",
    "\n",
    "from scipy.stats import uniform,randint\n",
    "import warnings\n",
    "warnings.filterwarnings(\"ignore\")"
   ]
  },
  {
   "cell_type": "code",
   "execution_count": 2,
   "id": "e7fa7fb4",
   "metadata": {
    "execution": {
     "iopub.execute_input": "2022-07-16T01:44:16.690982Z",
     "iopub.status.busy": "2022-07-16T01:44:16.689862Z",
     "iopub.status.idle": "2022-07-16T01:44:16.708401Z",
     "shell.execute_reply": "2022-07-16T01:44:16.706883Z"
    },
    "papermill": {
     "duration": 0.032764,
     "end_time": "2022-07-16T01:44:16.711343",
     "exception": false,
     "start_time": "2022-07-16T01:44:16.678579",
     "status": "completed"
    },
    "tags": []
   },
   "outputs": [],
   "source": [
    "if 'iter' in os.getcwd().split('/')[-1]:\n",
    "    ######## run manually #############\n",
    "    with open(\"../../config.yaml\", \"r\") as f:\n",
    "        config = yaml.load(f, Loader=yaml.FullLoader)\n",
    "        \n",
    "    if os.name == 'posix' :\n",
    "        PATH_MODEL = config['path']['artifact']+os.getcwd().split('/')[-1]+'/'\n",
    "    else:\n",
    "        PATH_MODEL = config['path']['artifact']+os.getcwd().split('\\\\')[-1]+'/'\n",
    "\n",
    "else:\n",
    "    ######### run with makefile #############\n",
    "    with open(\"config-make.yaml\", \"r\") as f:\n",
    "        config = yaml.load(f, Loader=yaml.FullLoader)\n",
    "\n",
    "    if os.name == 'posix' :\n",
    "        PATH_MODEL = config['path']['artifact']+'iteration_2/'\n",
    "    else:\n",
    "        PATH_MODEL = config['path']['artifact']+'iteration_2/'\n",
    "\n",
    "PATH_RAW = config['path']['raw']\n",
    "PATH_INTERIM = config['path']['interim']\n",
    "PATH_PROCESSED = config['path']['processed']\n",
    "PATH_UDF = config['path']['udf']"
   ]
  },
  {
   "cell_type": "code",
   "execution_count": 3,
   "id": "d1d5cdbb",
   "metadata": {
    "execution": {
     "iopub.execute_input": "2022-07-16T01:44:16.728132Z",
     "iopub.status.busy": "2022-07-16T01:44:16.727323Z",
     "iopub.status.idle": "2022-07-16T01:44:16.924681Z",
     "shell.execute_reply": "2022-07-16T01:44:16.922855Z"
    },
    "papermill": {
     "duration": 0.209787,
     "end_time": "2022-07-16T01:44:16.928219",
     "exception": false,
     "start_time": "2022-07-16T01:44:16.718432",
     "status": "completed"
    },
    "tags": []
   },
   "outputs": [],
   "source": [
    "from sklearn.linear_model import LogisticRegression, ElasticNet, SGDClassifier\n",
    "from sklearn.ensemble import RandomForestClassifier, BaggingClassifier, AdaBoostClassifier\n",
    "from sklearn.naive_bayes import GaussianNB\n",
    "from sklearn.gaussian_process import GaussianProcessRegressor"
   ]
  },
  {
   "cell_type": "code",
   "execution_count": null,
   "id": "bbf36be2",
   "metadata": {
    "papermill": {
     "duration": 0.008409,
     "end_time": "2022-07-16T01:44:16.944714",
     "exception": false,
     "start_time": "2022-07-16T01:44:16.936305",
     "status": "completed"
    },
    "tags": []
   },
   "outputs": [],
   "source": []
  },
  {
   "cell_type": "markdown",
   "id": "c5622dbd",
   "metadata": {
    "papermill": {
     "duration": 0.008483,
     "end_time": "2022-07-16T01:44:16.960518",
     "exception": false,
     "start_time": "2022-07-16T01:44:16.952035",
     "status": "completed"
    },
    "tags": []
   },
   "source": [
    "## Get Data"
   ]
  },
  {
   "cell_type": "code",
   "execution_count": 4,
   "id": "99d85dbe",
   "metadata": {
    "execution": {
     "iopub.execute_input": "2022-07-16T01:44:17.016956Z",
     "iopub.status.busy": "2022-07-16T01:44:17.016078Z",
     "iopub.status.idle": "2022-07-16T01:44:17.187823Z",
     "shell.execute_reply": "2022-07-16T01:44:17.185716Z"
    },
    "papermill": {
     "duration": 0.222694,
     "end_time": "2022-07-16T01:44:17.190795",
     "exception": false,
     "start_time": "2022-07-16T01:44:16.968101",
     "status": "completed"
    },
    "tags": []
   },
   "outputs": [],
   "source": [
    "raw_data = pd.read_csv(PATH_PROCESSED+'prep_iter2.csv')\n",
    "col_cat_load = joblib.load(PATH_MODEL+'cat_names.pkl')\n",
    "col_num_load = joblib.load(PATH_MODEL+'num_names.pkl')"
   ]
  },
  {
   "cell_type": "code",
   "execution_count": 5,
   "id": "550a8fce-d629-4a1a-8b2f-58be74dc1016",
   "metadata": {
    "execution": {
     "iopub.execute_input": "2022-07-16T01:44:17.212358Z",
     "iopub.status.busy": "2022-07-16T01:44:17.211488Z",
     "iopub.status.idle": "2022-07-16T01:44:17.252898Z",
     "shell.execute_reply": "2022-07-16T01:44:17.250694Z"
    },
    "papermill": {
     "duration": 0.055355,
     "end_time": "2022-07-16T01:44:17.255658",
     "exception": false,
     "start_time": "2022-07-16T01:44:17.200303",
     "status": "completed"
    },
    "tags": []
   },
   "outputs": [],
   "source": [
    "all_tr = raw_data[raw_data.is_train == 1]\n",
    "down_size = int(len(all_tr[all_tr.target == 1]) * 3.5)\n",
    "all_tr0 = all_tr[all_tr.target == 0].sample(down_size,random_state = 125)\n",
    "\n",
    "all_tr0['sweight'] = 0.2222/0.116\n",
    "all_tr1 = all_tr[all_tr.target == 1]\n",
    "all_tr1['sweight'] = 1\n",
    "\n",
    "all_tr_down = pd.concat([all_tr0,all_tr1])\n",
    "all_tr_down.target.value_counts(normalize = 1)\n",
    "\n",
    "samp_w = all_tr_down['sweight']"
   ]
  },
  {
   "cell_type": "code",
   "execution_count": null,
   "id": "12ef35c4-784b-441f-bc40-784ea7a8983a",
   "metadata": {
    "papermill": {
     "duration": 0.007865,
     "end_time": "2022-07-16T01:44:17.271247",
     "exception": false,
     "start_time": "2022-07-16T01:44:17.263382",
     "status": "completed"
    },
    "tags": []
   },
   "outputs": [],
   "source": []
  },
  {
   "cell_type": "code",
   "execution_count": 6,
   "id": "98080397",
   "metadata": {
    "execution": {
     "iopub.execute_input": "2022-07-16T01:44:17.289174Z",
     "iopub.status.busy": "2022-07-16T01:44:17.288477Z",
     "iopub.status.idle": "2022-07-16T01:44:17.307286Z",
     "shell.execute_reply": "2022-07-16T01:44:17.305477Z"
    },
    "papermill": {
     "duration": 0.031678,
     "end_time": "2022-07-16T01:44:17.310813",
     "exception": false,
     "start_time": "2022-07-16T01:44:17.279135",
     "status": "completed"
    },
    "tags": []
   },
   "outputs": [],
   "source": [
    "X_tr = all_tr_down[col_num_load+col_cat_load]\n",
    "Y_tr = all_tr_down['target'].values\n",
    "\n",
    "X_val = raw_data[raw_data.is_train == 0][col_num_load+col_cat_load]\n",
    "Y_val = raw_data[raw_data.is_train == 0]['target'].values"
   ]
  },
  {
   "cell_type": "code",
   "execution_count": 7,
   "id": "c13217a0",
   "metadata": {
    "execution": {
     "iopub.execute_input": "2022-07-16T01:44:17.337171Z",
     "iopub.status.busy": "2022-07-16T01:44:17.336079Z",
     "iopub.status.idle": "2022-07-16T01:44:17.350521Z",
     "shell.execute_reply": "2022-07-16T01:44:17.348672Z"
    },
    "papermill": {
     "duration": 0.031072,
     "end_time": "2022-07-16T01:44:17.353501",
     "exception": false,
     "start_time": "2022-07-16T01:44:17.322429",
     "status": "completed"
    },
    "tags": []
   },
   "outputs": [
    {
     "data": {
      "text/plain": [
       "(16974, 26)"
      ]
     },
     "execution_count": 7,
     "metadata": {},
     "output_type": "execute_result"
    }
   ],
   "source": [
    "X_tr.shape"
   ]
  },
  {
   "cell_type": "code",
   "execution_count": 8,
   "id": "1901eed4",
   "metadata": {
    "execution": {
     "iopub.execute_input": "2022-07-16T01:44:17.373675Z",
     "iopub.status.busy": "2022-07-16T01:44:17.372868Z",
     "iopub.status.idle": "2022-07-16T01:44:17.384132Z",
     "shell.execute_reply": "2022-07-16T01:44:17.382302Z"
    },
    "papermill": {
     "duration": 0.024973,
     "end_time": "2022-07-16T01:44:17.387876",
     "exception": false,
     "start_time": "2022-07-16T01:44:17.362903",
     "status": "completed"
    },
    "tags": []
   },
   "outputs": [
    {
     "data": {
      "text/plain": [
       "(5765, 26)"
      ]
     },
     "execution_count": 8,
     "metadata": {},
     "output_type": "execute_result"
    }
   ],
   "source": [
    "X_val.shape"
   ]
  },
  {
   "cell_type": "code",
   "execution_count": 9,
   "id": "bc2a5022",
   "metadata": {
    "execution": {
     "iopub.execute_input": "2022-07-16T01:44:17.413611Z",
     "iopub.status.busy": "2022-07-16T01:44:17.412337Z",
     "iopub.status.idle": "2022-07-16T01:44:17.423020Z",
     "shell.execute_reply": "2022-07-16T01:44:17.421559Z"
    },
    "papermill": {
     "duration": 0.026568,
     "end_time": "2022-07-16T01:44:17.425731",
     "exception": false,
     "start_time": "2022-07-16T01:44:17.399163",
     "status": "completed"
    },
    "tags": []
   },
   "outputs": [
    {
     "data": {
      "text/plain": [
       "(5765,)"
      ]
     },
     "execution_count": 9,
     "metadata": {},
     "output_type": "execute_result"
    }
   ],
   "source": [
    "Y_val.shape"
   ]
  },
  {
   "cell_type": "code",
   "execution_count": 10,
   "id": "a21af582-44d6-423f-b994-365a2e7921f3",
   "metadata": {
    "execution": {
     "iopub.execute_input": "2022-07-16T01:44:17.449701Z",
     "iopub.status.busy": "2022-07-16T01:44:17.448390Z",
     "iopub.status.idle": "2022-07-16T01:44:17.458962Z",
     "shell.execute_reply": "2022-07-16T01:44:17.457141Z"
    },
    "papermill": {
     "duration": 0.026298,
     "end_time": "2022-07-16T01:44:17.462239",
     "exception": false,
     "start_time": "2022-07-16T01:44:17.435941",
     "status": "completed"
    },
    "tags": []
   },
   "outputs": [
    {
     "data": {
      "text/plain": [
       "0.2222222222222222"
      ]
     },
     "execution_count": 10,
     "metadata": {},
     "output_type": "execute_result"
    }
   ],
   "source": [
    "Y_tr.mean()"
   ]
  },
  {
   "cell_type": "code",
   "execution_count": 11,
   "id": "d7ee5211-fe70-44f9-a4b9-d704bebb7663",
   "metadata": {
    "execution": {
     "iopub.execute_input": "2022-07-16T01:44:17.482754Z",
     "iopub.status.busy": "2022-07-16T01:44:17.481726Z",
     "iopub.status.idle": "2022-07-16T01:44:17.494982Z",
     "shell.execute_reply": "2022-07-16T01:44:17.493282Z"
    },
    "papermill": {
     "duration": 0.026965,
     "end_time": "2022-07-16T01:44:17.498215",
     "exception": false,
     "start_time": "2022-07-16T01:44:17.471250",
     "status": "completed"
    },
    "tags": []
   },
   "outputs": [
    {
     "data": {
      "text/plain": [
       "5079     1.915517\n",
       "17291    1.915517\n",
       "9206     1.915517\n",
       "4581     1.915517\n",
       "19666    1.915517\n",
       "           ...   \n",
       "38422    1.000000\n",
       "38424    1.000000\n",
       "38425    1.000000\n",
       "38426    1.000000\n",
       "38427    1.000000\n",
       "Name: sweight, Length: 16974, dtype: float64"
      ]
     },
     "execution_count": 11,
     "metadata": {},
     "output_type": "execute_result"
    }
   ],
   "source": [
    "samp_w"
   ]
  },
  {
   "cell_type": "code",
   "execution_count": null,
   "id": "c1385d3e",
   "metadata": {
    "papermill": {
     "duration": 0.009389,
     "end_time": "2022-07-16T01:44:17.516578",
     "exception": false,
     "start_time": "2022-07-16T01:44:17.507189",
     "status": "completed"
    },
    "tags": []
   },
   "outputs": [],
   "source": []
  },
  {
   "cell_type": "markdown",
   "id": "d19ae732",
   "metadata": {
    "papermill": {
     "duration": 0.009693,
     "end_time": "2022-07-16T01:44:17.535921",
     "exception": false,
     "start_time": "2022-07-16T01:44:17.526228",
     "status": "completed"
    },
    "tags": []
   },
   "source": [
    "## Modelling"
   ]
  },
  {
   "cell_type": "code",
   "execution_count": 12,
   "id": "b30be5d6",
   "metadata": {
    "execution": {
     "iopub.execute_input": "2022-07-16T01:44:17.558630Z",
     "iopub.status.busy": "2022-07-16T01:44:17.556563Z",
     "iopub.status.idle": "2022-07-16T01:44:17.579907Z",
     "shell.execute_reply": "2022-07-16T01:44:17.577358Z"
    },
    "papermill": {
     "duration": 0.039226,
     "end_time": "2022-07-16T01:44:17.584506",
     "exception": false,
     "start_time": "2022-07-16T01:44:17.545280",
     "status": "completed"
    },
    "tags": []
   },
   "outputs": [
    {
     "data": {
      "text/plain": [
       "{0: 1, 1: 4.0}"
      ]
     },
     "execution_count": 12,
     "metadata": {},
     "output_type": "execute_result"
    }
   ],
   "source": [
    "proportion_cls = pd.Series(Y_tr).value_counts(normalize = True)\n",
    "scale_pos_w = np.ceil(proportion_cls[0]/proportion_cls[1])\n",
    "cw = {0:1, 1:scale_pos_w}\n",
    "cw\n",
    "# scale_pos_weight for xgboost"
   ]
  },
  {
   "cell_type": "code",
   "execution_count": 13,
   "id": "ff647612",
   "metadata": {
    "execution": {
     "iopub.execute_input": "2022-07-16T01:44:17.605963Z",
     "iopub.status.busy": "2022-07-16T01:44:17.605012Z",
     "iopub.status.idle": "2022-07-16T01:44:17.616995Z",
     "shell.execute_reply": "2022-07-16T01:44:17.615353Z"
    },
    "papermill": {
     "duration": 0.026758,
     "end_time": "2022-07-16T01:44:17.620554",
     "exception": false,
     "start_time": "2022-07-16T01:44:17.593796",
     "status": "completed"
    },
    "tags": []
   },
   "outputs": [
    {
     "data": {
      "text/plain": [
       "0    0.777778\n",
       "1    0.222222\n",
       "dtype: float64"
      ]
     },
     "execution_count": 13,
     "metadata": {},
     "output_type": "execute_result"
    }
   ],
   "source": [
    "proportion_cls"
   ]
  },
  {
   "cell_type": "code",
   "execution_count": 14,
   "id": "2f47e764",
   "metadata": {
    "execution": {
     "iopub.execute_input": "2022-07-16T01:44:17.641324Z",
     "iopub.status.busy": "2022-07-16T01:44:17.640884Z",
     "iopub.status.idle": "2022-07-16T01:44:17.650690Z",
     "shell.execute_reply": "2022-07-16T01:44:17.648830Z"
    },
    "papermill": {
     "duration": 0.023495,
     "end_time": "2022-07-16T01:44:17.653217",
     "exception": false,
     "start_time": "2022-07-16T01:44:17.629722",
     "status": "completed"
    },
    "tags": []
   },
   "outputs": [],
   "source": [
    "base_logreg = LogisticRegression(C=1.9527291, class_weight=cw,solver='sag')\n",
    "all_model = {'sgd4' : SGDClassifier(class_weight=cw,max_iter = 5000,early_stopping=True,warm_start=True,eta0=0.01)\n",
    "            ,'logreg4' : LogisticRegression(class_weight=cw)\n",
    "            ,'rf4': RandomForestClassifier(random_state=234) ## not use class weight\n",
    "            ,'nb4':GaussianNB(priors=[0.778,0.222])\n",
    "            ,'baglog4': BaggingClassifier(base_estimator=base_logreg, random_state=234)\n",
    "            ,'adab_tree4':AdaBoostClassifier(random_state=234)\n",
    "            }"
   ]
  },
  {
   "cell_type": "code",
   "execution_count": 15,
   "id": "78276dfa",
   "metadata": {
    "execution": {
     "iopub.execute_input": "2022-07-16T01:44:17.676013Z",
     "iopub.status.busy": "2022-07-16T01:44:17.674978Z",
     "iopub.status.idle": "2022-07-16T01:44:17.703363Z",
     "shell.execute_reply": "2022-07-16T01:44:17.701825Z"
    },
    "papermill": {
     "duration": 0.04266,
     "end_time": "2022-07-16T01:44:17.706052",
     "exception": false,
     "start_time": "2022-07-16T01:44:17.663392",
     "status": "completed"
    },
    "tags": []
   },
   "outputs": [],
   "source": [
    "param_options = {'logreg4' : dict(C=uniform(loc=0, scale=2)\n",
    "                                 ,penalty=['l2', 'l1']\n",
    "                                 ,solver=['liblinear', 'sag'])\n",
    "                 ,'rf4' : dict(n_estimators=randint(300, 500)\n",
    "                             ,max_depth=randint(20, 50)\n",
    "                             ,min_samples_split=randint(5, 20)\n",
    "                             ,min_samples_leaf=randint(5, 20)\n",
    "                             ,min_weight_fraction_leaf=uniform(loc=0, scale=0.4)\n",
    "                             ,min_impurity_decrease=uniform(loc=0, scale=0.3))\n",
    "                 ,'nb4' : dict(var_smoothing = uniform(loc=1e-8, scale=1e-2))\n",
    "                 ,'sgd4' : dict(loss=['hinge', 'squared_hinge', 'perceptron']\n",
    "                                ,penalty=['l2', 'l1']\n",
    "                                ,alpha=uniform(loc=0.1, scale=0.95)\n",
    "                                ,l1_ratio=uniform(loc=0.1, scale=0.9)\n",
    "                                ,learning_rate=['constant','optimal','invscaling','adaptive'])\n",
    "                 ,'baglog4' : dict(n_estimators=randint(4, 45)\n",
    "                                   ,max_samples=uniform(loc=0.3,scale=0.7)\n",
    "                                   ,max_features=uniform(loc=0.3,scale=0.7)\n",
    "                                   ,warm_start=[False,True])\n",
    "                 ,'adab_tree4' : dict(n_estimators=randint(4, 100)\n",
    "                                   ,learning_rate=uniform(loc=0.3,scale=0.7)\n",
    "                                  )\n",
    "                }\n",
    "\n",
    " # min_weight_fraction_leaf must in [0, 0.5]"
   ]
  },
  {
   "cell_type": "code",
   "execution_count": 1,
   "id": "35b5bb7a",
   "metadata": {
    "execution": {
     "iopub.execute_input": "2022-07-16T01:44:17.727132Z",
     "iopub.status.busy": "2022-07-16T01:44:17.726305Z",
     "iopub.status.idle": "2022-07-16T02:44:20.064324Z",
     "shell.execute_reply": "2022-07-16T02:44:20.062746Z"
    },
    "jupyter": {
     "outputs_hidden": true
    },
    "papermill": {
     "duration": 3602.466505,
     "end_time": "2022-07-16T02:44:20.182226",
     "exception": false,
     "start_time": "2022-07-16T01:44:17.715721",
     "status": "completed"
    },
    "tags": []
   },
   "outputs": [],
   "source": [
    "## scoring\n",
    "## https://scikit-learn.org/stable/modules/model_evaluation.html#scoring-parameter\n",
    "best_clf = {}\n",
    "best_scr = {}\n",
    "sla_model = {}\n",
    "for mdl in all_model.keys():\n",
    "    L1 = time.time()\n",
    "    clf = all_model[mdl]\n",
    "    parm = param_options[mdl]\n",
    "    RS = RandomizedSearchCV(clf, parm, n_iter = 250, cv = 5, scoring = 'roc_auc',n_jobs = 8)\n",
    "        \n",
    "    RS.fit(X_tr,Y_tr, sample_weight=samp_w)\n",
    "    \n",
    "    best_clf[mdl] = RS.best_estimator_\n",
    "    best_scr[mdl] = RS.best_score_\n",
    "    diff_time = round((time.time()-L1)/60, 2)\n",
    "    \n",
    "    joblib.dump(best_clf[mdl],PATH_MODEL+mdl+'.pkl')\n",
    "    \n",
    "    print(mdl, 'is done in ',diff_time, ' minutes')\n",
    "    sla_model[mdl] = diff_time"
   ]
  },
  {
   "cell_type": "code",
   "execution_count": 17,
   "id": "d6a5430d",
   "metadata": {
    "execution": {
     "iopub.execute_input": "2022-07-16T02:44:20.476339Z",
     "iopub.status.busy": "2022-07-16T02:44:20.475446Z",
     "iopub.status.idle": "2022-07-16T02:44:20.483174Z",
     "shell.execute_reply": "2022-07-16T02:44:20.481845Z"
    },
    "papermill": {
     "duration": 0.137327,
     "end_time": "2022-07-16T02:44:20.485408",
     "exception": false,
     "start_time": "2022-07-16T02:44:20.348081",
     "status": "completed"
    },
    "tags": []
   },
   "outputs": [
    {
     "data": {
      "text/plain": [
       "{'sgd4': 0.64,\n",
       " 'logreg4': 3.98,\n",
       " 'rf4': 5.87,\n",
       " 'nb4': 0.17,\n",
       " 'baglog4': 47.15,\n",
       " 'adab_tree4': 2.23}"
      ]
     },
     "execution_count": 17,
     "metadata": {},
     "output_type": "execute_result"
    }
   ],
   "source": [
    "sla_model"
   ]
  },
  {
   "cell_type": "code",
   "execution_count": 18,
   "id": "b3d539b5",
   "metadata": {
    "execution": {
     "iopub.execute_input": "2022-07-16T02:44:20.715910Z",
     "iopub.status.busy": "2022-07-16T02:44:20.715265Z",
     "iopub.status.idle": "2022-07-16T02:44:20.723143Z",
     "shell.execute_reply": "2022-07-16T02:44:20.721540Z"
    },
    "papermill": {
     "duration": 0.128875,
     "end_time": "2022-07-16T02:44:20.725367",
     "exception": false,
     "start_time": "2022-07-16T02:44:20.596492",
     "status": "completed"
    },
    "tags": []
   },
   "outputs": [
    {
     "data": {
      "text/plain": [
       "{'sgd4': 0.8299805935090507,\n",
       " 'logreg4': 0.850900365461643,\n",
       " 'rf4': 0.8247226325963564,\n",
       " 'nb4': 0.7610661092539711,\n",
       " 'baglog4': 0.8438628296719848,\n",
       " 'adab_tree4': 0.8450451728518859}"
      ]
     },
     "execution_count": 18,
     "metadata": {},
     "output_type": "execute_result"
    }
   ],
   "source": [
    "best_scr"
   ]
  },
  {
   "cell_type": "code",
   "execution_count": 19,
   "id": "42743e3e",
   "metadata": {
    "execution": {
     "iopub.execute_input": "2022-07-16T02:44:20.969281Z",
     "iopub.status.busy": "2022-07-16T02:44:20.968523Z",
     "iopub.status.idle": "2022-07-16T02:44:20.981678Z",
     "shell.execute_reply": "2022-07-16T02:44:20.979902Z"
    },
    "papermill": {
     "duration": 0.134304,
     "end_time": "2022-07-16T02:44:20.984467",
     "exception": false,
     "start_time": "2022-07-16T02:44:20.850163",
     "status": "completed"
    },
    "tags": []
   },
   "outputs": [
    {
     "data": {
      "text/plain": [
       "{'sgd4': SGDClassifier(alpha=0.11435984950786869, class_weight={0: 1, 1: 4.0},\n",
       "               early_stopping=True, eta0=0.01, l1_ratio=0.4892229669474092,\n",
       "               loss='squared_hinge', max_iter=5000, penalty='l1',\n",
       "               warm_start=True),\n",
       " 'logreg4': LogisticRegression(C=1.881778530292538, class_weight={0: 1, 1: 4.0},\n",
       "                    solver='sag'),\n",
       " 'rf4': RandomForestClassifier(max_depth=33,\n",
       "                        min_impurity_decrease=0.00019824214697680142,\n",
       "                        min_samples_leaf=7, min_samples_split=11,\n",
       "                        min_weight_fraction_leaf=0.018392655949830108,\n",
       "                        n_estimators=452, random_state=234),\n",
       " 'nb4': GaussianNB(priors=[0.778, 0.222], var_smoothing=3.048607581944334e-05),\n",
       " 'baglog4': BaggingClassifier(base_estimator=LogisticRegression(C=1.9527291,\n",
       "                                                     class_weight={0: 1, 1: 4.0},\n",
       "                                                     solver='sag'),\n",
       "                   max_features=0.863101315743285,\n",
       "                   max_samples=0.6124719871519929, n_estimators=8,\n",
       "                   random_state=234, warm_start=True),\n",
       " 'adab_tree4': AdaBoostClassifier(learning_rate=0.9584370981001014, n_estimators=79,\n",
       "                    random_state=234)}"
      ]
     },
     "execution_count": 19,
     "metadata": {},
     "output_type": "execute_result"
    }
   ],
   "source": [
    "best_clf"
   ]
  },
  {
   "cell_type": "code",
   "execution_count": null,
   "id": "8eaf7f58",
   "metadata": {
    "papermill": {
     "duration": 0.119732,
     "end_time": "2022-07-16T02:44:21.223701",
     "exception": false,
     "start_time": "2022-07-16T02:44:21.103969",
     "status": "completed"
    },
    "tags": []
   },
   "outputs": [],
   "source": []
  },
  {
   "cell_type": "markdown",
   "id": "d8e540d1",
   "metadata": {
    "papermill": {
     "duration": 0.131834,
     "end_time": "2022-07-16T02:44:21.475009",
     "exception": false,
     "start_time": "2022-07-16T02:44:21.343175",
     "status": "completed"
    },
    "tags": []
   },
   "source": [
    "## Evaluation\n",
    "\n",
    "The SVM is best so far, but there is no predict proba."
   ]
  },
  {
   "cell_type": "code",
   "execution_count": 20,
   "id": "521ca288",
   "metadata": {
    "execution": {
     "iopub.execute_input": "2022-07-16T02:44:21.723459Z",
     "iopub.status.busy": "2022-07-16T02:44:21.722313Z",
     "iopub.status.idle": "2022-07-16T02:44:22.153074Z",
     "shell.execute_reply": "2022-07-16T02:44:22.151832Z"
    },
    "papermill": {
     "duration": 0.55188,
     "end_time": "2022-07-16T02:44:22.156269",
     "exception": false,
     "start_time": "2022-07-16T02:44:21.604389",
     "status": "completed"
    },
    "tags": []
   },
   "outputs": [
    {
     "name": "stdout",
     "output_type": "stream",
     "text": [
      "sgd4\n",
      "              precision    recall  f1-score   support\n",
      "\n",
      "           0       0.95      0.86      0.90      5079\n",
      "           1       0.39      0.68      0.49       686\n",
      "\n",
      "    accuracy                           0.84      5765\n",
      "   macro avg       0.67      0.77      0.70      5765\n",
      "weighted avg       0.88      0.84      0.85      5765\n",
      "\n",
      "logreg4\n",
      "              precision    recall  f1-score   support\n",
      "\n",
      "           0       0.95      0.87      0.91      5079\n",
      "           1       0.41      0.67      0.51       686\n",
      "\n",
      "    accuracy                           0.84      5765\n",
      "   macro avg       0.68      0.77      0.71      5765\n",
      "weighted avg       0.89      0.84      0.86      5765\n",
      "\n",
      "rf4\n",
      "              precision    recall  f1-score   support\n",
      "\n",
      "           0       0.88      1.00      0.94      5079\n",
      "           1       0.00      0.00      0.00       686\n",
      "\n",
      "    accuracy                           0.88      5765\n",
      "   macro avg       0.44      0.50      0.47      5765\n",
      "weighted avg       0.78      0.88      0.83      5765\n",
      "\n",
      "nb4\n",
      "              precision    recall  f1-score   support\n",
      "\n",
      "           0       0.94      0.77      0.85      5079\n",
      "           1       0.28      0.65      0.39       686\n",
      "\n",
      "    accuracy                           0.76      5765\n",
      "   macro avg       0.61      0.71      0.62      5765\n",
      "weighted avg       0.86      0.76      0.80      5765\n",
      "\n",
      "baglog4\n",
      "              precision    recall  f1-score   support\n",
      "\n",
      "           0       0.95      0.85      0.90      5079\n",
      "           1       0.38      0.67      0.48       686\n",
      "\n",
      "    accuracy                           0.83      5765\n",
      "   macro avg       0.67      0.76      0.69      5765\n",
      "weighted avg       0.88      0.83      0.85      5765\n",
      "\n",
      "adab_tree4\n",
      "              precision    recall  f1-score   support\n",
      "\n",
      "           0       0.91      0.97      0.94      5079\n",
      "           1       0.57      0.33      0.42       686\n",
      "\n",
      "    accuracy                           0.89      5765\n",
      "   macro avg       0.74      0.65      0.68      5765\n",
      "weighted avg       0.87      0.89      0.88      5765\n",
      "\n"
     ]
    }
   ],
   "source": [
    "for ml in best_clf.keys():\n",
    "    Y_prob_pred = best_clf[ml].predict(X_val)\n",
    "    print(ml)\n",
    "    print(classification_report(Y_val,Y_prob_pred))"
   ]
  },
  {
   "cell_type": "code",
   "execution_count": null,
   "id": "535590d5-2069-4e81-b12d-d43d5590963b",
   "metadata": {
    "papermill": {
     "duration": 0.134278,
     "end_time": "2022-07-16T02:44:22.412581",
     "exception": false,
     "start_time": "2022-07-16T02:44:22.278303",
     "status": "completed"
    },
    "tags": []
   },
   "outputs": [],
   "source": []
  },
  {
   "cell_type": "code",
   "execution_count": 21,
   "id": "924eb676-b6e2-432b-ba93-089fd1a89946",
   "metadata": {
    "execution": {
     "iopub.execute_input": "2022-07-16T02:44:22.644501Z",
     "iopub.status.busy": "2022-07-16T02:44:22.643396Z",
     "iopub.status.idle": "2022-07-16T02:44:22.651839Z",
     "shell.execute_reply": "2022-07-16T02:44:22.650787Z"
    },
    "papermill": {
     "duration": 0.125773,
     "end_time": "2022-07-16T02:44:22.653811",
     "exception": false,
     "start_time": "2022-07-16T02:44:22.528038",
     "status": "completed"
    },
    "tags": []
   },
   "outputs": [
    {
     "data": {
      "text/plain": [
       "0.8810060711188205"
      ]
     },
     "execution_count": 21,
     "metadata": {},
     "output_type": "execute_result"
    }
   ],
   "source": [
    "1-Y_val.mean()"
   ]
  }
 ],
 "metadata": {
  "kernelspec": {
   "display_name": "Python 3 (ipykernel)",
   "language": "python",
   "name": "python3"
  },
  "language_info": {
   "codemirror_mode": {
    "name": "ipython",
    "version": 3
   },
   "file_extension": ".py",
   "mimetype": "text/x-python",
   "name": "python",
   "nbconvert_exporter": "python",
   "pygments_lexer": "ipython3",
   "version": "3.7.13"
  },
  "papermill": {
   "default_parameters": {},
   "duration": 3612.928867,
   "end_time": "2022-07-16T02:44:25.394650",
   "environment_variables": {},
   "exception": null,
   "input_path": "notebooks/iteration_2/2-model_4.ipynb",
   "output_path": "notebooks/iteration_2/2-model_4-output.ipynb",
   "parameters": {},
   "start_time": "2022-07-16T01:44:12.465783",
   "version": "2.3.4"
  },
  "vscode": {
   "interpreter": {
    "hash": "cfaee8345a7381c4d4eb2d178d3529454f9688cb724b599027e029325603d2a6"
   }
  }
 },
 "nbformat": 4,
 "nbformat_minor": 5
}
