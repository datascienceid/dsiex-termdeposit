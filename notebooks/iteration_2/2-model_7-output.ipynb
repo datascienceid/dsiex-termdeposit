{
 "cells": [
  {
   "cell_type": "markdown",
   "id": "5d1c3360",
   "metadata": {
    "papermill": {
     "duration": 0.006317,
     "end_time": "2022-07-28T14:32:25.713932",
     "exception": false,
     "start_time": "2022-07-28T14:32:25.707615",
     "status": "completed"
    },
    "tags": []
   },
   "source": [
    "# Modelling v7\n",
    "\n",
    "modelling use the latest exploration\n",
    "\n",
    "# Goal\n",
    "\n",
    "Get the model from the prepared data. With undersampling + sample weight. \n",
    "\n",
    "# Plan\n",
    "\n",
    "Checklist what will be done on the notebook :\n",
    "\n",
    "    [*] Get Data\n",
    "    [*] Modelling\n",
    "\n"
   ]
  },
  {
   "cell_type": "code",
   "execution_count": 1,
   "id": "c039a1e0",
   "metadata": {
    "execution": {
     "iopub.execute_input": "2022-07-28T14:32:25.728607Z",
     "iopub.status.busy": "2022-07-28T14:32:25.727572Z",
     "iopub.status.idle": "2022-07-28T14:32:26.640483Z",
     "shell.execute_reply": "2022-07-28T14:32:26.638921Z"
    },
    "papermill": {
     "duration": 0.923635,
     "end_time": "2022-07-28T14:32:26.642974",
     "exception": false,
     "start_time": "2022-07-28T14:32:25.719339",
     "status": "completed"
    },
    "tags": []
   },
   "outputs": [],
   "source": [
    "import yaml\n",
    "import pandas as pd\n",
    "import matplotlib.pyplot as plt\n",
    "import os\n",
    "import joblib\n",
    "import numpy as np\n",
    "from sklearn.preprocessing import OneHotEncoder, MinMaxScaler\n",
    "from sklearn.model_selection import RandomizedSearchCV\n",
    "from sklearn.metrics import classification_report\n",
    "import seaborn as sns\n",
    "from statsmodels.graphics.mosaicplot import mosaic\n",
    "import time\n",
    "\n",
    "from scipy.stats import uniform,randint\n",
    "import warnings\n",
    "warnings.filterwarnings(\"ignore\")"
   ]
  },
  {
   "cell_type": "code",
   "execution_count": 2,
   "id": "e7fa7fb4",
   "metadata": {
    "execution": {
     "iopub.execute_input": "2022-07-28T14:32:26.655495Z",
     "iopub.status.busy": "2022-07-28T14:32:26.655030Z",
     "iopub.status.idle": "2022-07-28T14:32:26.666947Z",
     "shell.execute_reply": "2022-07-28T14:32:26.665977Z"
    },
    "papermill": {
     "duration": 0.020619,
     "end_time": "2022-07-28T14:32:26.669068",
     "exception": false,
     "start_time": "2022-07-28T14:32:26.648449",
     "status": "completed"
    },
    "tags": []
   },
   "outputs": [],
   "source": [
    "if 'iter' in os.getcwd().split('/')[-1]:\n",
    "    ######## run manually #############\n",
    "    with open(\"../../config.yaml\", \"r\") as f:\n",
    "        config = yaml.load(f, Loader=yaml.FullLoader)\n",
    "        \n",
    "    if os.name == 'posix' :\n",
    "        PATH_MODEL = config['path']['artifact']+os.getcwd().split('/')[-1]+'/'\n",
    "    else:\n",
    "        PATH_MODEL = config['path']['artifact']+os.getcwd().split('\\\\')[-1]+'/'\n",
    "\n",
    "else:\n",
    "    ######### run with makefile #############\n",
    "    with open(\"config-make.yaml\", \"r\") as f:\n",
    "        config = yaml.load(f, Loader=yaml.FullLoader)\n",
    "\n",
    "    if os.name == 'posix' :\n",
    "        PATH_MODEL = config['path']['artifact']+'iteration_2/'\n",
    "    else:\n",
    "        PATH_MODEL = config['path']['artifact']+'iteration_2/'\n",
    "\n",
    "PATH_RAW = config['path']['raw']\n",
    "PATH_INTERIM = config['path']['interim']\n",
    "PATH_PROCESSED = config['path']['processed']\n",
    "PATH_UDF = config['path']['udf']"
   ]
  },
  {
   "cell_type": "code",
   "execution_count": 3,
   "id": "d1d5cdbb",
   "metadata": {
    "execution": {
     "iopub.execute_input": "2022-07-28T14:32:26.681626Z",
     "iopub.status.busy": "2022-07-28T14:32:26.680895Z",
     "iopub.status.idle": "2022-07-28T14:32:26.726918Z",
     "shell.execute_reply": "2022-07-28T14:32:26.725430Z"
    },
    "papermill": {
     "duration": 0.055191,
     "end_time": "2022-07-28T14:32:26.729416",
     "exception": false,
     "start_time": "2022-07-28T14:32:26.674225",
     "status": "completed"
    },
    "tags": []
   },
   "outputs": [],
   "source": [
    "from sklearn.linear_model import LogisticRegression, ElasticNet, SGDClassifier\n",
    "from sklearn.ensemble import RandomForestClassifier, BaggingClassifier, AdaBoostClassifier\n",
    "from sklearn.naive_bayes import GaussianNB\n",
    "from sklearn.gaussian_process import GaussianProcessRegressor"
   ]
  },
  {
   "cell_type": "code",
   "execution_count": null,
   "id": "bbf36be2",
   "metadata": {
    "papermill": {
     "duration": 0.005188,
     "end_time": "2022-07-28T14:32:26.739829",
     "exception": false,
     "start_time": "2022-07-28T14:32:26.734641",
     "status": "completed"
    },
    "tags": []
   },
   "outputs": [],
   "source": []
  },
  {
   "cell_type": "markdown",
   "id": "c5622dbd",
   "metadata": {
    "papermill": {
     "duration": 0.076437,
     "end_time": "2022-07-28T14:32:26.821591",
     "exception": false,
     "start_time": "2022-07-28T14:32:26.745154",
     "status": "completed"
    },
    "tags": []
   },
   "source": [
    "## Get Data"
   ]
  },
  {
   "cell_type": "code",
   "execution_count": 4,
   "id": "99d85dbe",
   "metadata": {
    "execution": {
     "iopub.execute_input": "2022-07-28T14:32:26.836250Z",
     "iopub.status.busy": "2022-07-28T14:32:26.835359Z",
     "iopub.status.idle": "2022-07-28T14:32:26.951182Z",
     "shell.execute_reply": "2022-07-28T14:32:26.949932Z"
    },
    "papermill": {
     "duration": 0.125124,
     "end_time": "2022-07-28T14:32:26.953565",
     "exception": false,
     "start_time": "2022-07-28T14:32:26.828441",
     "status": "completed"
    },
    "tags": []
   },
   "outputs": [],
   "source": [
    "raw_data = pd.read_csv(PATH_PROCESSED+'prep_iter2.csv')\n",
    "col_cat_load = joblib.load(PATH_MODEL+'cat_names.pkl')\n",
    "col_num_load = joblib.load(PATH_MODEL+'num_names.pkl')"
   ]
  },
  {
   "cell_type": "code",
   "execution_count": 5,
   "id": "550a8fce-d629-4a1a-8b2f-58be74dc1016",
   "metadata": {
    "execution": {
     "iopub.execute_input": "2022-07-28T14:32:26.966381Z",
     "iopub.status.busy": "2022-07-28T14:32:26.965731Z",
     "iopub.status.idle": "2022-07-28T14:32:26.991887Z",
     "shell.execute_reply": "2022-07-28T14:32:26.990566Z"
    },
    "papermill": {
     "duration": 0.036084,
     "end_time": "2022-07-28T14:32:26.994625",
     "exception": false,
     "start_time": "2022-07-28T14:32:26.958541",
     "status": "completed"
    },
    "tags": []
   },
   "outputs": [],
   "source": [
    "all_tr = raw_data[raw_data.is_train == 1]\n",
    "down_size = int(len(all_tr[all_tr.target == 1]) * 3.5)\n",
    "all_tr0 = all_tr[all_tr.target == 0].sample(down_size,random_state = 125)\n",
    "\n",
    "all_tr0['sweight'] = 2\n",
    "all_tr1 = all_tr[all_tr.target == 1]\n",
    "all_tr1['sweight'] = 1\n",
    "\n",
    "all_tr_down = pd.concat([all_tr0,all_tr1])\n",
    "all_tr_down.target.value_counts(normalize = 1)\n",
    "\n",
    "samp_w = all_tr_down['sweight']"
   ]
  },
  {
   "cell_type": "code",
   "execution_count": null,
   "id": "12ef35c4-784b-441f-bc40-784ea7a8983a",
   "metadata": {
    "papermill": {
     "duration": 0.005675,
     "end_time": "2022-07-28T14:32:27.005520",
     "exception": false,
     "start_time": "2022-07-28T14:32:26.999845",
     "status": "completed"
    },
    "tags": []
   },
   "outputs": [],
   "source": []
  },
  {
   "cell_type": "code",
   "execution_count": 6,
   "id": "98080397",
   "metadata": {
    "execution": {
     "iopub.execute_input": "2022-07-28T14:32:27.018959Z",
     "iopub.status.busy": "2022-07-28T14:32:27.018248Z",
     "iopub.status.idle": "2022-07-28T14:32:27.037877Z",
     "shell.execute_reply": "2022-07-28T14:32:27.036872Z"
    },
    "papermill": {
     "duration": 0.030655,
     "end_time": "2022-07-28T14:32:27.041165",
     "exception": false,
     "start_time": "2022-07-28T14:32:27.010510",
     "status": "completed"
    },
    "tags": []
   },
   "outputs": [],
   "source": [
    "X_tr = all_tr_down[col_num_load+col_cat_load]\n",
    "Y_tr = all_tr_down['target'].values\n",
    "\n",
    "X_val = raw_data[raw_data.is_train == 0][col_num_load+col_cat_load]\n",
    "Y_val = raw_data[raw_data.is_train == 0]['target'].values"
   ]
  },
  {
   "cell_type": "code",
   "execution_count": 7,
   "id": "c13217a0",
   "metadata": {
    "execution": {
     "iopub.execute_input": "2022-07-28T14:32:27.052680Z",
     "iopub.status.busy": "2022-07-28T14:32:27.052304Z",
     "iopub.status.idle": "2022-07-28T14:32:27.062543Z",
     "shell.execute_reply": "2022-07-28T14:32:27.060630Z"
    },
    "papermill": {
     "duration": 0.01887,
     "end_time": "2022-07-28T14:32:27.064955",
     "exception": false,
     "start_time": "2022-07-28T14:32:27.046085",
     "status": "completed"
    },
    "tags": []
   },
   "outputs": [
    {
     "data": {
      "text/plain": [
       "(16974, 26)"
      ]
     },
     "execution_count": 7,
     "metadata": {},
     "output_type": "execute_result"
    }
   ],
   "source": [
    "X_tr.shape"
   ]
  },
  {
   "cell_type": "code",
   "execution_count": 8,
   "id": "1901eed4",
   "metadata": {
    "execution": {
     "iopub.execute_input": "2022-07-28T14:32:27.078314Z",
     "iopub.status.busy": "2022-07-28T14:32:27.077127Z",
     "iopub.status.idle": "2022-07-28T14:32:27.084733Z",
     "shell.execute_reply": "2022-07-28T14:32:27.083290Z"
    },
    "papermill": {
     "duration": 0.017107,
     "end_time": "2022-07-28T14:32:27.087141",
     "exception": false,
     "start_time": "2022-07-28T14:32:27.070034",
     "status": "completed"
    },
    "tags": []
   },
   "outputs": [
    {
     "data": {
      "text/plain": [
       "(5765, 26)"
      ]
     },
     "execution_count": 8,
     "metadata": {},
     "output_type": "execute_result"
    }
   ],
   "source": [
    "X_val.shape"
   ]
  },
  {
   "cell_type": "code",
   "execution_count": 9,
   "id": "bc2a5022",
   "metadata": {
    "execution": {
     "iopub.execute_input": "2022-07-28T14:32:27.100072Z",
     "iopub.status.busy": "2022-07-28T14:32:27.098879Z",
     "iopub.status.idle": "2022-07-28T14:32:27.107482Z",
     "shell.execute_reply": "2022-07-28T14:32:27.106099Z"
    },
    "papermill": {
     "duration": 0.017643,
     "end_time": "2022-07-28T14:32:27.109863",
     "exception": false,
     "start_time": "2022-07-28T14:32:27.092220",
     "status": "completed"
    },
    "tags": []
   },
   "outputs": [
    {
     "data": {
      "text/plain": [
       "(5765,)"
      ]
     },
     "execution_count": 9,
     "metadata": {},
     "output_type": "execute_result"
    }
   ],
   "source": [
    "Y_val.shape"
   ]
  },
  {
   "cell_type": "code",
   "execution_count": 10,
   "id": "a21af582-44d6-423f-b994-365a2e7921f3",
   "metadata": {
    "execution": {
     "iopub.execute_input": "2022-07-28T14:32:27.122617Z",
     "iopub.status.busy": "2022-07-28T14:32:27.122144Z",
     "iopub.status.idle": "2022-07-28T14:32:27.129424Z",
     "shell.execute_reply": "2022-07-28T14:32:27.128107Z"
    },
    "papermill": {
     "duration": 0.016563,
     "end_time": "2022-07-28T14:32:27.132005",
     "exception": false,
     "start_time": "2022-07-28T14:32:27.115442",
     "status": "completed"
    },
    "tags": []
   },
   "outputs": [
    {
     "data": {
      "text/plain": [
       "0.2222222222222222"
      ]
     },
     "execution_count": 10,
     "metadata": {},
     "output_type": "execute_result"
    }
   ],
   "source": [
    "Y_tr.mean()"
   ]
  },
  {
   "cell_type": "code",
   "execution_count": 11,
   "id": "d7ee5211-fe70-44f9-a4b9-d704bebb7663",
   "metadata": {
    "execution": {
     "iopub.execute_input": "2022-07-28T14:32:27.145328Z",
     "iopub.status.busy": "2022-07-28T14:32:27.144900Z",
     "iopub.status.idle": "2022-07-28T14:32:27.153328Z",
     "shell.execute_reply": "2022-07-28T14:32:27.152199Z"
    },
    "papermill": {
     "duration": 0.01852,
     "end_time": "2022-07-28T14:32:27.155754",
     "exception": false,
     "start_time": "2022-07-28T14:32:27.137234",
     "status": "completed"
    },
    "tags": []
   },
   "outputs": [
    {
     "data": {
      "text/plain": [
       "5079     2\n",
       "17291    2\n",
       "9206     2\n",
       "4581     2\n",
       "19666    2\n",
       "        ..\n",
       "38422    1\n",
       "38424    1\n",
       "38425    1\n",
       "38426    1\n",
       "38427    1\n",
       "Name: sweight, Length: 16974, dtype: int64"
      ]
     },
     "execution_count": 11,
     "metadata": {},
     "output_type": "execute_result"
    }
   ],
   "source": [
    "samp_w"
   ]
  },
  {
   "cell_type": "code",
   "execution_count": null,
   "id": "c1385d3e",
   "metadata": {
    "papermill": {
     "duration": 0.006441,
     "end_time": "2022-07-28T14:32:27.167837",
     "exception": false,
     "start_time": "2022-07-28T14:32:27.161396",
     "status": "completed"
    },
    "tags": []
   },
   "outputs": [],
   "source": []
  },
  {
   "cell_type": "markdown",
   "id": "d19ae732",
   "metadata": {
    "papermill": {
     "duration": 0.006497,
     "end_time": "2022-07-28T14:32:27.180719",
     "exception": false,
     "start_time": "2022-07-28T14:32:27.174222",
     "status": "completed"
    },
    "tags": []
   },
   "source": [
    "## Modelling"
   ]
  },
  {
   "cell_type": "code",
   "execution_count": 12,
   "id": "b30be5d6",
   "metadata": {
    "execution": {
     "iopub.execute_input": "2022-07-28T14:32:27.194859Z",
     "iopub.status.busy": "2022-07-28T14:32:27.194181Z",
     "iopub.status.idle": "2022-07-28T14:32:27.204492Z",
     "shell.execute_reply": "2022-07-28T14:32:27.203506Z"
    },
    "papermill": {
     "duration": 0.019816,
     "end_time": "2022-07-28T14:32:27.206539",
     "exception": false,
     "start_time": "2022-07-28T14:32:27.186723",
     "status": "completed"
    },
    "tags": []
   },
   "outputs": [
    {
     "data": {
      "text/plain": [
       "{0: 1, 1: 4.0}"
      ]
     },
     "execution_count": 12,
     "metadata": {},
     "output_type": "execute_result"
    }
   ],
   "source": [
    "proportion_cls = pd.Series(Y_tr).value_counts(normalize = True)\n",
    "scale_pos_w = np.ceil(proportion_cls[0]/proportion_cls[1])\n",
    "# scale_pos_w = \n",
    "cw = {0:1, 1:scale_pos_w}\n",
    "cw\n",
    "# scale_pos_weight for xgboost"
   ]
  },
  {
   "cell_type": "code",
   "execution_count": 13,
   "id": "ff647612",
   "metadata": {
    "execution": {
     "iopub.execute_input": "2022-07-28T14:32:27.219231Z",
     "iopub.status.busy": "2022-07-28T14:32:27.218422Z",
     "iopub.status.idle": "2022-07-28T14:32:27.223994Z",
     "shell.execute_reply": "2022-07-28T14:32:27.222169Z"
    },
    "papermill": {
     "duration": 0.015424,
     "end_time": "2022-07-28T14:32:27.227329",
     "exception": false,
     "start_time": "2022-07-28T14:32:27.211905",
     "status": "completed"
    },
    "tags": []
   },
   "outputs": [],
   "source": [
    "# proportion_cls"
   ]
  },
  {
   "cell_type": "code",
   "execution_count": 14,
   "id": "2f47e764",
   "metadata": {
    "execution": {
     "iopub.execute_input": "2022-07-28T14:32:27.240924Z",
     "iopub.status.busy": "2022-07-28T14:32:27.240455Z",
     "iopub.status.idle": "2022-07-28T14:32:27.247899Z",
     "shell.execute_reply": "2022-07-28T14:32:27.246959Z"
    },
    "papermill": {
     "duration": 0.016606,
     "end_time": "2022-07-28T14:32:27.249993",
     "exception": false,
     "start_time": "2022-07-28T14:32:27.233387",
     "status": "completed"
    },
    "tags": []
   },
   "outputs": [],
   "source": [
    "base_logreg = LogisticRegression(class_weight=cw)\n",
    "all_model = {'sgd7' : SGDClassifier(class_weight=cw,max_iter = 5500,early_stopping=True,eta0 = 0.15)\n",
    "            ,'logreg7' : LogisticRegression(class_weight=cw)\n",
    "            ,'nb7': GaussianNB(priors=[0.78,0.22])\n",
    "            ,'bagtree7': BaggingClassifier(random_state=234)\n",
    "            ,'baglog7': BaggingClassifier(base_estimator=base_logreg, random_state=234)\n",
    "            ,'adab_tree7':AdaBoostClassifier(random_state=234)\n",
    "            ,'adab_log7':AdaBoostClassifier(base_estimator=base_logreg,random_state=234)\n",
    "            }"
   ]
  },
  {
   "cell_type": "code",
   "execution_count": 15,
   "id": "78276dfa",
   "metadata": {
    "execution": {
     "iopub.execute_input": "2022-07-28T14:32:27.264405Z",
     "iopub.status.busy": "2022-07-28T14:32:27.263603Z",
     "iopub.status.idle": "2022-07-28T14:32:27.282603Z",
     "shell.execute_reply": "2022-07-28T14:32:27.280867Z"
    },
    "papermill": {
     "duration": 0.029181,
     "end_time": "2022-07-28T14:32:27.284532",
     "exception": false,
     "start_time": "2022-07-28T14:32:27.255351",
     "status": "completed"
    },
    "tags": []
   },
   "outputs": [],
   "source": [
    "param_options = {'logreg7' : dict(C=uniform(loc=0, scale=2)\n",
    "                                 ,penalty=['l2', 'l1']\n",
    "                                 ,solver=['liblinear', 'sag'])\n",
    "                 ,'nb7' : dict(var_smoothing = uniform(loc=1e-8, scale=1e-2))\n",
    "                 ,'sgd7' : dict(loss=['hinge', 'perceptron']\n",
    "                                ,penalty=['l2', 'l1']\n",
    "                                ,alpha=uniform(loc=0.01, scale=0.9)\n",
    "                                ,l1_ratio=uniform(loc=0.01, scale=0.8)\n",
    "                                ,learning_rate=['constant','optimal','invscaling','adaptive'])\n",
    "                 ,'bagtree7' : dict(n_estimators=randint(4, 35)\n",
    "                                   ,max_samples=uniform(loc=0.2,scale=0.65)\n",
    "                                   ,max_features=uniform(loc=0.2,scale=0.65)\n",
    "                                   ,warm_start=[False,True])\n",
    "                 ,'baglog7' : dict(n_estimators=randint(4, 35)\n",
    "                                   ,max_samples=uniform(loc=0.2,scale=0.65)\n",
    "                                   ,max_features=uniform(loc=0.2,scale=0.65)\n",
    "                                   ,warm_start=[False,True])\n",
    "                 ,'adab_tree7' : dict(n_estimators=randint(50, 120)\n",
    "                                   ,learning_rate=uniform(loc=0.05,scale=0.8)\n",
    "                                  )\n",
    "                 ,'adab_log7' : dict(n_estimators=randint(5, 50)\n",
    "                                   ,learning_rate=uniform(loc=0.05,scale=0.65)\n",
    "                                  )\n",
    "                }\n",
    "\n",
    " # min_weight_fraction_leaf must in [0, 0.5]"
   ]
  },
  {
   "cell_type": "code",
   "execution_count": 1,
   "id": "35b5bb7a",
   "metadata": {
    "papermill": {
     "duration": 879.081552,
     "end_time": "2022-07-28T14:47:06.371366",
     "exception": false,
     "start_time": "2022-07-28T14:32:27.289814",
     "status": "completed"
    },
    "tags": []
   },
   "outputs": [],
   "source": [
    "## scoring\n",
    "## https://scikit-learn.org/stable/modules/model_evaluation.html#scoring-parameter\n",
    "best_clf = {}\n",
    "best_scr = {}\n",
    "sla_model = {}\n",
    "for mdl in all_model.keys():\n",
    "    L1 = time.time()\n",
    "    clf = all_model[mdl]\n",
    "    parm = param_options[mdl]\n",
    "    RS = RandomizedSearchCV(clf, parm, n_iter = 200, cv = 5, scoring = 'roc_auc',n_jobs = 10)\n",
    "        \n",
    "    RS.fit(X_tr,Y_tr, sample_weight=samp_w)\n",
    "    \n",
    "    best_clf[mdl] = RS.best_estimator_\n",
    "    best_scr[mdl] = RS.best_score_\n",
    "    diff_time = round((time.time()-L1)/60, 2)\n",
    "    \n",
    "    joblib.dump(best_clf[mdl],PATH_MODEL+mdl+'.pkl')\n",
    "    \n",
    "    print(mdl, 'is done in ',diff_time, ' minutes')\n",
    "    sla_model[mdl] = diff_time"
   ]
  },
  {
   "cell_type": "code",
   "execution_count": 17,
   "id": "d6a5430d",
   "metadata": {
    "execution": {
     "iopub.execute_input": "2022-07-28T14:47:06.409190Z",
     "iopub.status.busy": "2022-07-28T14:47:06.408518Z",
     "iopub.status.idle": "2022-07-28T14:47:06.419101Z",
     "shell.execute_reply": "2022-07-28T14:47:06.417942Z"
    },
    "papermill": {
     "duration": 0.032293,
     "end_time": "2022-07-28T14:47:06.420978",
     "exception": false,
     "start_time": "2022-07-28T14:47:06.388685",
     "status": "completed"
    },
    "tags": []
   },
   "outputs": [
    {
     "data": {
      "text/plain": [
       "{'sgd7': 0.38,\n",
       " 'logreg7': 2.57,\n",
       " 'nb7': 0.13,\n",
       " 'bagtree7': 0.85,\n",
       " 'baglog7': 4.87,\n",
       " 'adab_tree7': 2.8,\n",
       " 'adab_log7': 3.06}"
      ]
     },
     "execution_count": 17,
     "metadata": {},
     "output_type": "execute_result"
    }
   ],
   "source": [
    "sla_model"
   ]
  },
  {
   "cell_type": "code",
   "execution_count": 18,
   "id": "b3d539b5",
   "metadata": {
    "execution": {
     "iopub.execute_input": "2022-07-28T14:47:06.446308Z",
     "iopub.status.busy": "2022-07-28T14:47:06.444942Z",
     "iopub.status.idle": "2022-07-28T14:47:06.452689Z",
     "shell.execute_reply": "2022-07-28T14:47:06.451578Z"
    },
    "papermill": {
     "duration": 0.022067,
     "end_time": "2022-07-28T14:47:06.454456",
     "exception": false,
     "start_time": "2022-07-28T14:47:06.432389",
     "status": "completed"
    },
    "tags": []
   },
   "outputs": [
    {
     "data": {
      "text/plain": [
       "{'sgd7': 0.83703990586309,\n",
       " 'logreg7': 0.8354104484473641,\n",
       " 'nb7': 0.7610665094603093,\n",
       " 'bagtree7': 0.8284644856795029,\n",
       " 'baglog7': 0.8359857938461215,\n",
       " 'adab_tree7': 0.8468077080006211,\n",
       " 'adab_log7': 0.8017777274862464}"
      ]
     },
     "execution_count": 18,
     "metadata": {},
     "output_type": "execute_result"
    }
   ],
   "source": [
    "best_scr"
   ]
  },
  {
   "cell_type": "code",
   "execution_count": 19,
   "id": "42743e3e",
   "metadata": {
    "execution": {
     "iopub.execute_input": "2022-07-28T14:47:06.483250Z",
     "iopub.status.busy": "2022-07-28T14:47:06.481947Z",
     "iopub.status.idle": "2022-07-28T14:47:06.496209Z",
     "shell.execute_reply": "2022-07-28T14:47:06.494919Z"
    },
    "papermill": {
     "duration": 0.0316,
     "end_time": "2022-07-28T14:47:06.498736",
     "exception": false,
     "start_time": "2022-07-28T14:47:06.467136",
     "status": "completed"
    },
    "tags": []
   },
   "outputs": [
    {
     "data": {
      "text/plain": [
       "{'sgd7': SGDClassifier(alpha=0.010257240430073535, class_weight={0: 1, 1: 4.0},\n",
       "               early_stopping=True, eta0=0.15, l1_ratio=0.41527835874567165,\n",
       "               max_iter=5500),\n",
       " 'logreg7': LogisticRegression(C=0.022301288998292312, class_weight={0: 1, 1: 4.0},\n",
       "                    penalty='l1', solver='liblinear'),\n",
       " 'nb7': GaussianNB(priors=[0.78, 0.22], var_smoothing=9.23202551413979e-05),\n",
       " 'bagtree7': BaggingClassifier(max_features=0.591459873595623,\n",
       "                   max_samples=0.4353495541259752, n_estimators=34,\n",
       "                   random_state=234, warm_start=True),\n",
       " 'baglog7': BaggingClassifier(base_estimator=LogisticRegression(class_weight={0: 1,\n",
       "                                                                   1: 4.0}),\n",
       "                   max_features=0.3085758517738, max_samples=0.6362809678412202,\n",
       "                   n_estimators=17, random_state=234, warm_start=True),\n",
       " 'adab_tree7': AdaBoostClassifier(learning_rate=0.685075433575406, n_estimators=119,\n",
       "                    random_state=234),\n",
       " 'adab_log7': AdaBoostClassifier(base_estimator=LogisticRegression(class_weight={0: 1,\n",
       "                                                                    1: 4.0}),\n",
       "                    learning_rate=0.6587951101198419, n_estimators=46,\n",
       "                    random_state=234)}"
      ]
     },
     "execution_count": 19,
     "metadata": {},
     "output_type": "execute_result"
    }
   ],
   "source": [
    "best_clf"
   ]
  },
  {
   "cell_type": "code",
   "execution_count": null,
   "id": "8eaf7f58",
   "metadata": {
    "papermill": {
     "duration": 0.010564,
     "end_time": "2022-07-28T14:47:06.520040",
     "exception": false,
     "start_time": "2022-07-28T14:47:06.509476",
     "status": "completed"
    },
    "tags": []
   },
   "outputs": [],
   "source": []
  },
  {
   "cell_type": "markdown",
   "id": "d8e540d1",
   "metadata": {
    "papermill": {
     "duration": 0.011245,
     "end_time": "2022-07-28T14:47:06.542130",
     "exception": false,
     "start_time": "2022-07-28T14:47:06.530885",
     "status": "completed"
    },
    "tags": []
   },
   "source": [
    "## Evaluation\n",
    "\n",
    "The SVM is best so far, but there is no predict proba."
   ]
  },
  {
   "cell_type": "code",
   "execution_count": 20,
   "id": "521ca288",
   "metadata": {
    "execution": {
     "iopub.execute_input": "2022-07-28T14:47:06.566711Z",
     "iopub.status.busy": "2022-07-28T14:47:06.566157Z",
     "iopub.status.idle": "2022-07-28T14:47:06.921947Z",
     "shell.execute_reply": "2022-07-28T14:47:06.920457Z"
    },
    "papermill": {
     "duration": 0.372064,
     "end_time": "2022-07-28T14:47:06.924854",
     "exception": false,
     "start_time": "2022-07-28T14:47:06.552790",
     "status": "completed"
    },
    "tags": []
   },
   "outputs": [
    {
     "name": "stdout",
     "output_type": "stream",
     "text": [
      "sgd7\n",
      "              precision    recall  f1-score   support\n",
      "\n",
      "           0       0.95      0.87      0.91      5079\n",
      "           1       0.41      0.68      0.51       686\n",
      "\n",
      "    accuracy                           0.84      5765\n",
      "   macro avg       0.68      0.77      0.71      5765\n",
      "weighted avg       0.89      0.84      0.86      5765\n",
      "\n",
      "logreg7\n",
      "              precision    recall  f1-score   support\n",
      "\n",
      "           0       0.95      0.88      0.91      5079\n",
      "           1       0.42      0.65      0.51       686\n",
      "\n",
      "    accuracy                           0.85      5765\n",
      "   macro avg       0.69      0.76      0.71      5765\n",
      "weighted avg       0.89      0.85      0.87      5765\n",
      "\n",
      "nb7\n",
      "              precision    recall  f1-score   support\n",
      "\n",
      "           0       0.94      0.77      0.85      5079\n",
      "           1       0.28      0.65      0.39       686\n",
      "\n",
      "    accuracy                           0.76      5765\n",
      "   macro avg       0.61      0.71      0.62      5765\n",
      "weighted avg       0.86      0.76      0.80      5765\n",
      "\n",
      "bagtree7\n",
      "              precision    recall  f1-score   support\n",
      "\n",
      "           0       0.93      0.95      0.94      5079\n",
      "           1       0.54      0.47      0.50       686\n",
      "\n",
      "    accuracy                           0.89      5765\n",
      "   macro avg       0.73      0.71      0.72      5765\n",
      "weighted avg       0.88      0.89      0.89      5765\n",
      "\n",
      "baglog7\n",
      "              precision    recall  f1-score   support\n",
      "\n",
      "           0       0.93      0.93      0.93      5079\n",
      "           1       0.48      0.47      0.47       686\n",
      "\n",
      "    accuracy                           0.88      5765\n",
      "   macro avg       0.70      0.70      0.70      5765\n",
      "weighted avg       0.87      0.88      0.88      5765\n",
      "\n",
      "adab_tree7\n",
      "              precision    recall  f1-score   support\n",
      "\n",
      "           0       0.91      0.97      0.94      5079\n",
      "           1       0.57      0.31      0.41       686\n",
      "\n",
      "    accuracy                           0.89      5765\n",
      "   macro avg       0.74      0.64      0.67      5765\n",
      "weighted avg       0.87      0.89      0.88      5765\n",
      "\n",
      "adab_log7\n",
      "              precision    recall  f1-score   support\n",
      "\n",
      "           0       0.93      0.90      0.92      5079\n",
      "           1       0.42      0.52      0.46       686\n",
      "\n",
      "    accuracy                           0.86      5765\n",
      "   macro avg       0.68      0.71      0.69      5765\n",
      "weighted avg       0.87      0.86      0.86      5765\n",
      "\n"
     ]
    }
   ],
   "source": [
    "for ml in best_clf.keys():\n",
    "    Y_prob_pred = best_clf[ml].predict(X_val)\n",
    "    print(ml)\n",
    "    print(classification_report(Y_val,Y_prob_pred))"
   ]
  },
  {
   "cell_type": "code",
   "execution_count": 21,
   "id": "535590d5-2069-4e81-b12d-d43d5590963b",
   "metadata": {
    "execution": {
     "iopub.execute_input": "2022-07-28T14:47:06.978833Z",
     "iopub.status.busy": "2022-07-28T14:47:06.976926Z",
     "iopub.status.idle": "2022-07-28T14:47:06.996892Z",
     "shell.execute_reply": "2022-07-28T14:47:06.995234Z"
    },
    "papermill": {
     "duration": 0.054066,
     "end_time": "2022-07-28T14:47:07.000458",
     "exception": false,
     "start_time": "2022-07-28T14:47:06.946392",
     "status": "completed"
    },
    "tags": []
   },
   "outputs": [
    {
     "data": {
      "text/plain": [
       "['artifacts/iteration_2/target_data7.pkl']"
      ]
     },
     "execution_count": 21,
     "metadata": {},
     "output_type": "execute_result"
    }
   ],
   "source": [
    "## Save train data for explainability\n",
    "joblib.dump(X_tr,PATH_MODEL+'train_data7.pkl')\n",
    "joblib.dump(Y_tr,PATH_MODEL+'target_data7.pkl')"
   ]
  },
  {
   "cell_type": "code",
   "execution_count": 22,
   "id": "924eb676-b6e2-432b-ba93-089fd1a89946",
   "metadata": {
    "execution": {
     "iopub.execute_input": "2022-07-28T14:47:07.026344Z",
     "iopub.status.busy": "2022-07-28T14:47:07.025835Z",
     "iopub.status.idle": "2022-07-28T14:47:07.034088Z",
     "shell.execute_reply": "2022-07-28T14:47:07.032407Z"
    },
    "papermill": {
     "duration": 0.024002,
     "end_time": "2022-07-28T14:47:07.036468",
     "exception": false,
     "start_time": "2022-07-28T14:47:07.012466",
     "status": "completed"
    },
    "tags": []
   },
   "outputs": [
    {
     "data": {
      "text/plain": [
       "0.8810060711188205"
      ]
     },
     "execution_count": 22,
     "metadata": {},
     "output_type": "execute_result"
    }
   ],
   "source": [
    "1-Y_val.mean()"
   ]
  }
 ],
 "metadata": {
  "kernelspec": {
   "display_name": "Python 3 (ipykernel)",
   "language": "python",
   "name": "python3"
  },
  "language_info": {
   "codemirror_mode": {
    "name": "ipython",
    "version": 3
   },
   "file_extension": ".py",
   "mimetype": "text/x-python",
   "name": "python",
   "nbconvert_exporter": "python",
   "pygments_lexer": "ipython3",
   "version": "3.7.13"
  },
  "papermill": {
   "default_parameters": {},
   "duration": 885.15675,
   "end_time": "2022-07-28T14:47:09.671887",
   "environment_variables": {},
   "exception": null,
   "input_path": "notebooks/iteration_2/2-model_7.ipynb",
   "output_path": "notebooks/iteration_2/2-model_7-output.ipynb",
   "parameters": {},
   "start_time": "2022-07-28T14:32:24.515137",
   "version": "2.3.4"
  },
  "vscode": {
   "interpreter": {
    "hash": "cfaee8345a7381c4d4eb2d178d3529454f9688cb724b599027e029325603d2a6"
   }
  }
 },
 "nbformat": 4,
 "nbformat_minor": 5
}
