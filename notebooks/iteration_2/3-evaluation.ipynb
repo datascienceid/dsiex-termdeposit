{
 "cells": [
  {
   "cell_type": "markdown",
   "id": "e01f2780-5513-4064-83ea-606bed6649b9",
   "metadata": {},
   "source": [
    "# Evaluate the Model\n",
    "\n",
    "Evaluation model with data test"
   ]
  },
  {
   "cell_type": "code",
   "execution_count": 8,
   "id": "e5d986aa-edb8-460c-989f-200f547e4452",
   "metadata": {},
   "outputs": [],
   "source": [
    "import yaml\n",
    "import pandas as pd\n",
    "import shap\n",
    "import os\n",
    "import joblib\n",
    "import numpy as np\n"
   ]
  },
  {
   "cell_type": "code",
   "execution_count": 9,
   "id": "f9b81f9a-6641-4778-bad0-df15b38b446e",
   "metadata": {},
   "outputs": [],
   "source": [
    "if 'iter' in os.getcwd().split('/')[-1]:\n",
    "    ######## run manually #############\n",
    "    with open(\"../../config.yaml\", \"r\") as f:\n",
    "        config = yaml.load(f, Loader=yaml.FullLoader)\n",
    "        \n",
    "    if os.name == 'posix' :\n",
    "        PATH_MODEL = config['path']['artifact']+os.getcwd().split('/')[-1]+'/'\n",
    "    else:\n",
    "        PATH_MODEL = config['path']['artifact']+os.getcwd().split('\\\\')[-1]+'/'\n",
    "\n",
    "else:\n",
    "    ######### run with makefile #############\n",
    "    with open(\"config-make.yaml\", \"r\") as f:\n",
    "        config = yaml.load(f, Loader=yaml.FullLoader)\n",
    "\n",
    "    if os.name == 'posix' :\n",
    "        PATH_MODEL = config['path']['artifact']+'iteration_2/'\n",
    "    else:\n",
    "        PATH_MODEL = config['path']['artifact']+'iteration_2/'\n",
    "\n",
    "PATH_RAW = config['path']['raw']\n",
    "PATH_INTERIM = config['path']['interim']\n",
    "PATH_PROCESSED = config['path']['processed']\n",
    "PATH_UDF = config['path']['udf']"
   ]
  },
  {
   "cell_type": "code",
   "execution_count": null,
   "id": "2f0f031c-50b4-4a29-950f-aafb6ae1f8bb",
   "metadata": {},
   "outputs": [],
   "source": []
  },
  {
   "cell_type": "markdown",
   "id": "f4d04494-a427-4020-888e-797aa7880dc7",
   "metadata": {},
   "source": [
    "## Get data and Model"
   ]
  },
  {
   "cell_type": "code",
   "execution_count": 10,
   "id": "85464c93-19e7-4798-ad8c-0676767514c2",
   "metadata": {},
   "outputs": [],
   "source": [
    "raw_data = pd.read_csv(PATH_INTERIM+'data_tes_iter2.csv')\n",
    "col_cat_load = joblib.load(PATH_MODEL+'cat_names.pkl')\n",
    "col_num_load = joblib.load(PATH_MODEL+'num_names.pkl')"
   ]
  },
  {
   "cell_type": "code",
   "execution_count": null,
   "id": "47841590-4a76-4207-b2cc-d91812544eb5",
   "metadata": {},
   "outputs": [],
   "source": [
    "## preprocessing\n"
   ]
  },
  {
   "cell_type": "code",
   "execution_count": null,
   "id": "f25dd515-9237-4ff5-bba3-292c43e89309",
   "metadata": {},
   "outputs": [],
   "source": []
  },
  {
   "cell_type": "code",
   "execution_count": null,
   "id": "69d40b87-cae1-4411-b3a5-5893022cc238",
   "metadata": {},
   "outputs": [],
   "source": [
    "## Best Model\n",
    "joblib.dump(best_clf[mdl],PATH_MODEL+mdl+'.pkl')"
   ]
  },
  {
   "cell_type": "code",
   "execution_count": null,
   "id": "37ea1864-417d-46f4-9c15-25fb18d7ccb7",
   "metadata": {},
   "outputs": [],
   "source": []
  }
 ],
 "metadata": {
  "kernelspec": {
   "display_name": "Python 3 (ipykernel)",
   "language": "python",
   "name": "python3"
  },
  "language_info": {
   "codemirror_mode": {
    "name": "ipython",
    "version": 3
   },
   "file_extension": ".py",
   "mimetype": "text/x-python",
   "name": "python",
   "nbconvert_exporter": "python",
   "pygments_lexer": "ipython3",
   "version": "3.7.13"
  }
 },
 "nbformat": 4,
 "nbformat_minor": 5
}
