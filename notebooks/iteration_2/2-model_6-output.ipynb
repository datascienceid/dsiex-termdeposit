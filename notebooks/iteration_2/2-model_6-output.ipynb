{
 "cells": [
  {
   "cell_type": "markdown",
   "id": "5d1c3360",
   "metadata": {
    "papermill": {
     "duration": 0.00593,
     "end_time": "2022-07-22T01:18:05.256785",
     "exception": false,
     "start_time": "2022-07-22T01:18:05.250855",
     "status": "completed"
    },
    "tags": []
   },
   "source": [
    "# Modelling v6\n",
    "\n",
    "modelling use the latest exploration\n",
    "\n",
    "# Goal\n",
    "\n",
    "Get the model from the prepared data. With undersampling + sample weight. \n",
    "\n",
    "# Plan\n",
    "\n",
    "Checklist what will be done on the notebook :\n",
    "\n",
    "    [*] Get Data\n",
    "    [*] Modelling\n",
    "\n"
   ]
  },
  {
   "cell_type": "code",
   "execution_count": 1,
   "id": "c039a1e0",
   "metadata": {
    "execution": {
     "iopub.execute_input": "2022-07-22T01:18:05.272200Z",
     "iopub.status.busy": "2022-07-22T01:18:05.271736Z",
     "iopub.status.idle": "2022-07-22T01:18:06.794882Z",
     "shell.execute_reply": "2022-07-22T01:18:06.793599Z"
    },
    "papermill": {
     "duration": 1.53249,
     "end_time": "2022-07-22T01:18:06.796824",
     "exception": false,
     "start_time": "2022-07-22T01:18:05.264334",
     "status": "completed"
    },
    "tags": []
   },
   "outputs": [],
   "source": [
    "import yaml\n",
    "import pandas as pd\n",
    "import matplotlib.pyplot as plt\n",
    "import os\n",
    "import joblib\n",
    "import numpy as np\n",
    "from sklearn.preprocessing import OneHotEncoder, MinMaxScaler\n",
    "from sklearn.model_selection import RandomizedSearchCV\n",
    "from sklearn.metrics import classification_report\n",
    "import seaborn as sns\n",
    "from statsmodels.graphics.mosaicplot import mosaic\n",
    "import time\n",
    "\n",
    "from scipy.stats import uniform,randint\n",
    "import warnings\n",
    "warnings.filterwarnings(\"ignore\")"
   ]
  },
  {
   "cell_type": "code",
   "execution_count": 2,
   "id": "e7fa7fb4",
   "metadata": {
    "execution": {
     "iopub.execute_input": "2022-07-22T01:18:06.808837Z",
     "iopub.status.busy": "2022-07-22T01:18:06.807933Z",
     "iopub.status.idle": "2022-07-22T01:18:06.817654Z",
     "shell.execute_reply": "2022-07-22T01:18:06.816766Z"
    },
    "papermill": {
     "duration": 0.018102,
     "end_time": "2022-07-22T01:18:06.819743",
     "exception": false,
     "start_time": "2022-07-22T01:18:06.801641",
     "status": "completed"
    },
    "tags": []
   },
   "outputs": [],
   "source": [
    "if 'iter' in os.getcwd().split('/')[-1]:\n",
    "    ######## run manually #############\n",
    "    with open(\"../../config.yaml\", \"r\") as f:\n",
    "        config = yaml.load(f, Loader=yaml.FullLoader)\n",
    "        \n",
    "    if os.name == 'posix' :\n",
    "        PATH_MODEL = config['path']['artifact']+os.getcwd().split('/')[-1]+'/'\n",
    "    else:\n",
    "        PATH_MODEL = config['path']['artifact']+os.getcwd().split('\\\\')[-1]+'/'\n",
    "\n",
    "else:\n",
    "    ######### run with makefile #############\n",
    "    with open(\"config-make.yaml\", \"r\") as f:\n",
    "        config = yaml.load(f, Loader=yaml.FullLoader)\n",
    "\n",
    "    if os.name == 'posix' :\n",
    "        PATH_MODEL = config['path']['artifact']+'iteration_2/'\n",
    "    else:\n",
    "        PATH_MODEL = config['path']['artifact']+'iteration_2/'\n",
    "\n",
    "PATH_RAW = config['path']['raw']\n",
    "PATH_INTERIM = config['path']['interim']\n",
    "PATH_PROCESSED = config['path']['processed']\n",
    "PATH_UDF = config['path']['udf']"
   ]
  },
  {
   "cell_type": "code",
   "execution_count": 3,
   "id": "d1d5cdbb",
   "metadata": {
    "execution": {
     "iopub.execute_input": "2022-07-22T01:18:06.832578Z",
     "iopub.status.busy": "2022-07-22T01:18:06.831428Z",
     "iopub.status.idle": "2022-07-22T01:18:06.973161Z",
     "shell.execute_reply": "2022-07-22T01:18:06.972285Z"
    },
    "papermill": {
     "duration": 0.151582,
     "end_time": "2022-07-22T01:18:06.975806",
     "exception": false,
     "start_time": "2022-07-22T01:18:06.824224",
     "status": "completed"
    },
    "tags": []
   },
   "outputs": [],
   "source": [
    "from sklearn.linear_model import LogisticRegression, ElasticNet, SGDClassifier\n",
    "from sklearn.ensemble import RandomForestClassifier, BaggingClassifier, AdaBoostClassifier\n",
    "from sklearn.naive_bayes import GaussianNB\n",
    "from sklearn.gaussian_process import GaussianProcessRegressor"
   ]
  },
  {
   "cell_type": "code",
   "execution_count": null,
   "id": "bbf36be2",
   "metadata": {
    "papermill": {
     "duration": 0.004895,
     "end_time": "2022-07-22T01:18:06.986209",
     "exception": false,
     "start_time": "2022-07-22T01:18:06.981314",
     "status": "completed"
    },
    "tags": []
   },
   "outputs": [],
   "source": []
  },
  {
   "cell_type": "markdown",
   "id": "c5622dbd",
   "metadata": {
    "papermill": {
     "duration": 0.086833,
     "end_time": "2022-07-22T01:18:07.080326",
     "exception": false,
     "start_time": "2022-07-22T01:18:06.993493",
     "status": "completed"
    },
    "tags": []
   },
   "source": [
    "## Get Data"
   ]
  },
  {
   "cell_type": "code",
   "execution_count": 4,
   "id": "99d85dbe",
   "metadata": {
    "execution": {
     "iopub.execute_input": "2022-07-22T01:18:07.092944Z",
     "iopub.status.busy": "2022-07-22T01:18:07.092368Z",
     "iopub.status.idle": "2022-07-22T01:18:07.234747Z",
     "shell.execute_reply": "2022-07-22T01:18:07.233253Z"
    },
    "papermill": {
     "duration": 0.151681,
     "end_time": "2022-07-22T01:18:07.237064",
     "exception": false,
     "start_time": "2022-07-22T01:18:07.085383",
     "status": "completed"
    },
    "tags": []
   },
   "outputs": [],
   "source": [
    "raw_data = pd.read_csv(PATH_PROCESSED+'prep_iter2.csv')\n",
    "col_cat_load = joblib.load(PATH_MODEL+'cat_names.pkl')\n",
    "col_num_load = joblib.load(PATH_MODEL+'num_names.pkl')"
   ]
  },
  {
   "cell_type": "code",
   "execution_count": 5,
   "id": "550a8fce-d629-4a1a-8b2f-58be74dc1016",
   "metadata": {
    "execution": {
     "iopub.execute_input": "2022-07-22T01:18:07.249837Z",
     "iopub.status.busy": "2022-07-22T01:18:07.248742Z",
     "iopub.status.idle": "2022-07-22T01:18:07.278237Z",
     "shell.execute_reply": "2022-07-22T01:18:07.276920Z"
    },
    "papermill": {
     "duration": 0.038011,
     "end_time": "2022-07-22T01:18:07.280355",
     "exception": false,
     "start_time": "2022-07-22T01:18:07.242344",
     "status": "completed"
    },
    "tags": []
   },
   "outputs": [],
   "source": [
    "all_tr = raw_data[raw_data.is_train == 1]\n",
    "down_size = int(len(all_tr[all_tr.target == 1]) * 3.5)\n",
    "all_tr0 = all_tr[all_tr.target == 0].sample(down_size,random_state = 125)\n",
    "\n",
    "all_tr0['sweight'] = 0.2222/0.116\n",
    "all_tr1 = all_tr[all_tr.target == 1]\n",
    "all_tr1['sweight'] = 1\n",
    "\n",
    "all_tr_down = pd.concat([all_tr0,all_tr1])\n",
    "all_tr_down.target.value_counts(normalize = 1)\n",
    "\n",
    "samp_w = all_tr_down['sweight']"
   ]
  },
  {
   "cell_type": "code",
   "execution_count": null,
   "id": "12ef35c4-784b-441f-bc40-784ea7a8983a",
   "metadata": {
    "papermill": {
     "duration": 0.005506,
     "end_time": "2022-07-22T01:18:07.290686",
     "exception": false,
     "start_time": "2022-07-22T01:18:07.285180",
     "status": "completed"
    },
    "tags": []
   },
   "outputs": [],
   "source": []
  },
  {
   "cell_type": "code",
   "execution_count": 6,
   "id": "98080397",
   "metadata": {
    "execution": {
     "iopub.execute_input": "2022-07-22T01:18:07.301591Z",
     "iopub.status.busy": "2022-07-22T01:18:07.301315Z",
     "iopub.status.idle": "2022-07-22T01:18:07.316750Z",
     "shell.execute_reply": "2022-07-22T01:18:07.315361Z"
    },
    "papermill": {
     "duration": 0.023307,
     "end_time": "2022-07-22T01:18:07.318880",
     "exception": false,
     "start_time": "2022-07-22T01:18:07.295573",
     "status": "completed"
    },
    "tags": []
   },
   "outputs": [],
   "source": [
    "X_tr = all_tr_down[col_num_load+col_cat_load]\n",
    "Y_tr = all_tr_down['target'].values\n",
    "\n",
    "X_val = raw_data[raw_data.is_train == 0][col_num_load+col_cat_load]\n",
    "Y_val = raw_data[raw_data.is_train == 0]['target'].values"
   ]
  },
  {
   "cell_type": "code",
   "execution_count": 7,
   "id": "c13217a0",
   "metadata": {
    "execution": {
     "iopub.execute_input": "2022-07-22T01:18:07.331633Z",
     "iopub.status.busy": "2022-07-22T01:18:07.330522Z",
     "iopub.status.idle": "2022-07-22T01:18:07.340199Z",
     "shell.execute_reply": "2022-07-22T01:18:07.338580Z"
    },
    "papermill": {
     "duration": 0.019498,
     "end_time": "2022-07-22T01:18:07.343104",
     "exception": false,
     "start_time": "2022-07-22T01:18:07.323606",
     "status": "completed"
    },
    "tags": []
   },
   "outputs": [
    {
     "data": {
      "text/plain": [
       "(16974, 26)"
      ]
     },
     "execution_count": 7,
     "metadata": {},
     "output_type": "execute_result"
    }
   ],
   "source": [
    "X_tr.shape"
   ]
  },
  {
   "cell_type": "code",
   "execution_count": 8,
   "id": "1901eed4",
   "metadata": {
    "execution": {
     "iopub.execute_input": "2022-07-22T01:18:07.355644Z",
     "iopub.status.busy": "2022-07-22T01:18:07.354737Z",
     "iopub.status.idle": "2022-07-22T01:18:07.362872Z",
     "shell.execute_reply": "2022-07-22T01:18:07.361690Z"
    },
    "papermill": {
     "duration": 0.017615,
     "end_time": "2022-07-22T01:18:07.365620",
     "exception": false,
     "start_time": "2022-07-22T01:18:07.348005",
     "status": "completed"
    },
    "tags": []
   },
   "outputs": [
    {
     "data": {
      "text/plain": [
       "(5765, 26)"
      ]
     },
     "execution_count": 8,
     "metadata": {},
     "output_type": "execute_result"
    }
   ],
   "source": [
    "X_val.shape"
   ]
  },
  {
   "cell_type": "code",
   "execution_count": 9,
   "id": "bc2a5022",
   "metadata": {
    "execution": {
     "iopub.execute_input": "2022-07-22T01:18:07.377887Z",
     "iopub.status.busy": "2022-07-22T01:18:07.377033Z",
     "iopub.status.idle": "2022-07-22T01:18:07.383479Z",
     "shell.execute_reply": "2022-07-22T01:18:07.382531Z"
    },
    "papermill": {
     "duration": 0.015241,
     "end_time": "2022-07-22T01:18:07.385860",
     "exception": false,
     "start_time": "2022-07-22T01:18:07.370619",
     "status": "completed"
    },
    "tags": []
   },
   "outputs": [
    {
     "data": {
      "text/plain": [
       "(5765,)"
      ]
     },
     "execution_count": 9,
     "metadata": {},
     "output_type": "execute_result"
    }
   ],
   "source": [
    "Y_val.shape"
   ]
  },
  {
   "cell_type": "code",
   "execution_count": 10,
   "id": "a21af582-44d6-423f-b994-365a2e7921f3",
   "metadata": {
    "execution": {
     "iopub.execute_input": "2022-07-22T01:18:07.398427Z",
     "iopub.status.busy": "2022-07-22T01:18:07.397301Z",
     "iopub.status.idle": "2022-07-22T01:18:07.403559Z",
     "shell.execute_reply": "2022-07-22T01:18:07.402624Z"
    },
    "papermill": {
     "duration": 0.014972,
     "end_time": "2022-07-22T01:18:07.406038",
     "exception": false,
     "start_time": "2022-07-22T01:18:07.391066",
     "status": "completed"
    },
    "tags": []
   },
   "outputs": [
    {
     "data": {
      "text/plain": [
       "0.2222222222222222"
      ]
     },
     "execution_count": 10,
     "metadata": {},
     "output_type": "execute_result"
    }
   ],
   "source": [
    "Y_tr.mean()"
   ]
  },
  {
   "cell_type": "code",
   "execution_count": 11,
   "id": "d7ee5211-fe70-44f9-a4b9-d704bebb7663",
   "metadata": {
    "execution": {
     "iopub.execute_input": "2022-07-22T01:18:07.417888Z",
     "iopub.status.busy": "2022-07-22T01:18:07.417177Z",
     "iopub.status.idle": "2022-07-22T01:18:07.425950Z",
     "shell.execute_reply": "2022-07-22T01:18:07.424320Z"
    },
    "papermill": {
     "duration": 0.018643,
     "end_time": "2022-07-22T01:18:07.429638",
     "exception": false,
     "start_time": "2022-07-22T01:18:07.410995",
     "status": "completed"
    },
    "tags": []
   },
   "outputs": [
    {
     "data": {
      "text/plain": [
       "5079     1.915517\n",
       "17291    1.915517\n",
       "9206     1.915517\n",
       "4581     1.915517\n",
       "19666    1.915517\n",
       "           ...   \n",
       "38422    1.000000\n",
       "38424    1.000000\n",
       "38425    1.000000\n",
       "38426    1.000000\n",
       "38427    1.000000\n",
       "Name: sweight, Length: 16974, dtype: float64"
      ]
     },
     "execution_count": 11,
     "metadata": {},
     "output_type": "execute_result"
    }
   ],
   "source": [
    "samp_w"
   ]
  },
  {
   "cell_type": "code",
   "execution_count": null,
   "id": "c1385d3e",
   "metadata": {
    "papermill": {
     "duration": 0.007919,
     "end_time": "2022-07-22T01:18:07.443159",
     "exception": false,
     "start_time": "2022-07-22T01:18:07.435240",
     "status": "completed"
    },
    "tags": []
   },
   "outputs": [],
   "source": []
  },
  {
   "cell_type": "markdown",
   "id": "d19ae732",
   "metadata": {
    "papermill": {
     "duration": 0.008615,
     "end_time": "2022-07-22T01:18:07.461693",
     "exception": false,
     "start_time": "2022-07-22T01:18:07.453078",
     "status": "completed"
    },
    "tags": []
   },
   "source": [
    "## Modelling"
   ]
  },
  {
   "cell_type": "code",
   "execution_count": 12,
   "id": "b30be5d6",
   "metadata": {
    "execution": {
     "iopub.execute_input": "2022-07-22T01:18:07.476310Z",
     "iopub.status.busy": "2022-07-22T01:18:07.475503Z",
     "iopub.status.idle": "2022-07-22T01:18:07.485111Z",
     "shell.execute_reply": "2022-07-22T01:18:07.484144Z"
    },
    "papermill": {
     "duration": 0.018731,
     "end_time": "2022-07-22T01:18:07.487162",
     "exception": false,
     "start_time": "2022-07-22T01:18:07.468431",
     "status": "completed"
    },
    "tags": []
   },
   "outputs": [
    {
     "data": {
      "text/plain": [
       "{0: 1, 1: 4.0}"
      ]
     },
     "execution_count": 12,
     "metadata": {},
     "output_type": "execute_result"
    }
   ],
   "source": [
    "proportion_cls = pd.Series(Y_tr).value_counts(normalize = True)\n",
    "scale_pos_w = np.ceil(proportion_cls[0]/proportion_cls[1])\n",
    "cw = {0:1, 1:scale_pos_w}\n",
    "cw\n",
    "# scale_pos_weight for xgboost"
   ]
  },
  {
   "cell_type": "code",
   "execution_count": 13,
   "id": "ff647612",
   "metadata": {
    "execution": {
     "iopub.execute_input": "2022-07-22T01:18:07.503074Z",
     "iopub.status.busy": "2022-07-22T01:18:07.502313Z",
     "iopub.status.idle": "2022-07-22T01:18:07.510135Z",
     "shell.execute_reply": "2022-07-22T01:18:07.508745Z"
    },
    "papermill": {
     "duration": 0.019041,
     "end_time": "2022-07-22T01:18:07.512990",
     "exception": false,
     "start_time": "2022-07-22T01:18:07.493949",
     "status": "completed"
    },
    "tags": []
   },
   "outputs": [
    {
     "data": {
      "text/plain": [
       "0    0.777778\n",
       "1    0.222222\n",
       "dtype: float64"
      ]
     },
     "execution_count": 13,
     "metadata": {},
     "output_type": "execute_result"
    }
   ],
   "source": [
    "proportion_cls"
   ]
  },
  {
   "cell_type": "code",
   "execution_count": 14,
   "id": "2f47e764",
   "metadata": {
    "execution": {
     "iopub.execute_input": "2022-07-22T01:18:07.526566Z",
     "iopub.status.busy": "2022-07-22T01:18:07.525924Z",
     "iopub.status.idle": "2022-07-22T01:18:07.533133Z",
     "shell.execute_reply": "2022-07-22T01:18:07.532027Z"
    },
    "papermill": {
     "duration": 0.017166,
     "end_time": "2022-07-22T01:18:07.535726",
     "exception": false,
     "start_time": "2022-07-22T01:18:07.518560",
     "status": "completed"
    },
    "tags": []
   },
   "outputs": [],
   "source": [
    "base_logreg = LogisticRegression(C=1.71, class_weight=cw)\n",
    "all_model = {'sgd6' : SGDClassifier(class_weight=cw,max_iter = 2500,early_stopping=True,warm_start=True,eta0=0.05)\n",
    "            ,'logreg6' : LogisticRegression(class_weight=cw)\n",
    "            ,'nb6': GaussianNB(priors=[0.778,0.222])\n",
    "            ,'baglog6': BaggingClassifier(base_estimator=base_logreg, random_state=234)\n",
    "            ,'adab_tree6':AdaBoostClassifier(random_state=234)\n",
    "            ,'adab_log6':AdaBoostClassifier(base_estimator=base_logreg,random_state=234)\n",
    "            }"
   ]
  },
  {
   "cell_type": "code",
   "execution_count": 15,
   "id": "78276dfa",
   "metadata": {
    "execution": {
     "iopub.execute_input": "2022-07-22T01:18:07.548932Z",
     "iopub.status.busy": "2022-07-22T01:18:07.547476Z",
     "iopub.status.idle": "2022-07-22T01:18:07.563849Z",
     "shell.execute_reply": "2022-07-22T01:18:07.562629Z"
    },
    "papermill": {
     "duration": 0.025599,
     "end_time": "2022-07-22T01:18:07.566451",
     "exception": false,
     "start_time": "2022-07-22T01:18:07.540852",
     "status": "completed"
    },
    "tags": []
   },
   "outputs": [],
   "source": [
    "param_options = {'logreg6' : dict(C=uniform(loc=0, scale=2)\n",
    "                                 ,penalty=['l2', 'l1']\n",
    "                                 ,solver=['liblinear', 'sag'])\n",
    "                 ,'nb6' : dict(var_smoothing = uniform(loc=1e-8, scale=1e-2))\n",
    "                 ,'sgd6' : dict(loss=['hinge', 'squared_hinge', 'perceptron']\n",
    "                                ,penalty=['l2', 'l1']\n",
    "                                ,alpha=uniform(loc=0.1, scale=0.95)\n",
    "                                ,l1_ratio=uniform(loc=0.1, scale=0.85)\n",
    "                                ,learning_rate=['constant','optimal','invscaling','adaptive'])\n",
    "                 ,'baglog6' : dict(n_estimators=randint(4, 45)\n",
    "                                   ,max_samples=uniform(loc=0.3,scale=0.7)\n",
    "                                   ,max_features=uniform(loc=0.3,scale=0.7)\n",
    "                                   ,warm_start=[False,True])\n",
    "                 ,'adab_tree6' : dict(n_estimators=randint(20, 120)\n",
    "                                   ,learning_rate=uniform(loc=0.1,scale=0.85)\n",
    "                                  )\n",
    "                 ,'adab_log6' : dict(n_estimators=randint(20, 120)\n",
    "                                   ,learning_rate=uniform(loc=0.1,scale=0.85)\n",
    "                                  )\n",
    "                }\n",
    "\n",
    " # min_weight_fraction_leaf must in [0, 0.5]"
   ]
  },
  {
   "cell_type": "code",
   "execution_count": 1,
   "id": "35b5bb7a",
   "metadata": {
    "papermill": {
     "duration": 845.357735,
     "end_time": "2022-07-22T01:32:12.929271",
     "exception": false,
     "start_time": "2022-07-22T01:18:07.571536",
     "status": "completed"
    },
    "tags": []
   },
   "outputs": [],
   "source": [
    "## scoring\n",
    "## https://scikit-learn.org/stable/modules/model_evaluation.html#scoring-parameter\n",
    "best_clf = {}\n",
    "best_scr = {}\n",
    "sla_model = {}\n",
    "for mdl in all_model.keys():\n",
    "    L1 = time.time()\n",
    "    clf = all_model[mdl]\n",
    "    parm = param_options[mdl]\n",
    "    RS = RandomizedSearchCV(clf, parm, n_iter = 150, cv = 5, scoring = 'roc_auc',n_jobs = 10)\n",
    "        \n",
    "    RS.fit(X_tr,Y_tr, sample_weight=samp_w)\n",
    "    \n",
    "    best_clf[mdl] = RS.best_estimator_\n",
    "    best_scr[mdl] = RS.best_score_\n",
    "    diff_time = round((time.time()-L1)/60, 2)\n",
    "    \n",
    "    joblib.dump(best_clf[mdl],PATH_MODEL+mdl+'.pkl')\n",
    "    \n",
    "    print(mdl, 'is done in ',diff_time, ' minutes')\n",
    "    sla_model[mdl] = diff_time"
   ]
  },
  {
   "cell_type": "code",
   "execution_count": 17,
   "id": "d6a5430d",
   "metadata": {
    "execution": {
     "iopub.execute_input": "2022-07-22T01:32:12.949519Z",
     "iopub.status.busy": "2022-07-22T01:32:12.949106Z",
     "iopub.status.idle": "2022-07-22T01:32:12.956785Z",
     "shell.execute_reply": "2022-07-22T01:32:12.955407Z"
    },
    "papermill": {
     "duration": 0.020917,
     "end_time": "2022-07-22T01:32:12.959838",
     "exception": false,
     "start_time": "2022-07-22T01:32:12.938921",
     "status": "completed"
    },
    "tags": []
   },
   "outputs": [
    {
     "data": {
      "text/plain": [
       "{'sgd6': 0.25,\n",
       " 'logreg6': 1.78,\n",
       " 'nb6': 0.09,\n",
       " 'baglog6': 5.9,\n",
       " 'adab_tree6': 1.65,\n",
       " 'adab_log6': 4.42}"
      ]
     },
     "execution_count": 17,
     "metadata": {},
     "output_type": "execute_result"
    }
   ],
   "source": [
    "sla_model"
   ]
  },
  {
   "cell_type": "code",
   "execution_count": 18,
   "id": "b3d539b5",
   "metadata": {
    "execution": {
     "iopub.execute_input": "2022-07-22T01:32:12.978174Z",
     "iopub.status.busy": "2022-07-22T01:32:12.977072Z",
     "iopub.status.idle": "2022-07-22T01:32:12.984815Z",
     "shell.execute_reply": "2022-07-22T01:32:12.983728Z"
    },
    "papermill": {
     "duration": 0.019721,
     "end_time": "2022-07-22T01:32:12.987560",
     "exception": false,
     "start_time": "2022-07-22T01:32:12.967839",
     "status": "completed"
    },
    "tags": []
   },
   "outputs": [
    {
     "data": {
      "text/plain": [
       "{'sgd6': 0.8358283463512196,\n",
       " 'logreg6': 0.839059285632781,\n",
       " 'nb6': 0.7610656061431126,\n",
       " 'baglog6': 0.8352463711916709,\n",
       " 'adab_tree6': 0.8452438563610972,\n",
       " 'adab_log6': 0.3411131251774702}"
      ]
     },
     "execution_count": 18,
     "metadata": {},
     "output_type": "execute_result"
    }
   ],
   "source": [
    "best_scr"
   ]
  },
  {
   "cell_type": "code",
   "execution_count": 19,
   "id": "42743e3e",
   "metadata": {
    "execution": {
     "iopub.execute_input": "2022-07-22T01:32:13.005528Z",
     "iopub.status.busy": "2022-07-22T01:32:13.005240Z",
     "iopub.status.idle": "2022-07-22T01:32:13.018003Z",
     "shell.execute_reply": "2022-07-22T01:32:13.017002Z"
    },
    "papermill": {
     "duration": 0.023719,
     "end_time": "2022-07-22T01:32:13.019675",
     "exception": false,
     "start_time": "2022-07-22T01:32:12.995956",
     "status": "completed"
    },
    "tags": []
   },
   "outputs": [
    {
     "data": {
      "text/plain": [
       "{'sgd6': SGDClassifier(alpha=0.2221640113284668, class_weight={0: 1, 1: 4.0},\n",
       "               early_stopping=True, eta0=0.05, l1_ratio=0.5516259642349061,\n",
       "               learning_rate='constant', loss='squared_hinge', max_iter=2500,\n",
       "               penalty='l1', warm_start=True),\n",
       " 'logreg6': LogisticRegression(C=0.798119302434461, class_weight={0: 1, 1: 4.0},\n",
       "                    solver='sag'),\n",
       " 'nb6': GaussianNB(priors=[0.778, 0.222], var_smoothing=0.00010693237473137966),\n",
       " 'baglog6': BaggingClassifier(base_estimator=LogisticRegression(C=1.71,\n",
       "                                                     class_weight={0: 1,\n",
       "                                                                   1: 4.0}),\n",
       "                   max_features=0.34454530380565573,\n",
       "                   max_samples=0.42181676941397833, n_estimators=17,\n",
       "                   random_state=234),\n",
       " 'adab_tree6': AdaBoostClassifier(learning_rate=0.6747638593591342, n_estimators=107,\n",
       "                    random_state=234),\n",
       " 'adab_log6': AdaBoostClassifier(base_estimator=LogisticRegression(C=1.71,\n",
       "                                                      class_weight={0: 1,\n",
       "                                                                    1: 4.0}),\n",
       "                    learning_rate=0.837579264938643, n_estimators=116,\n",
       "                    random_state=234)}"
      ]
     },
     "execution_count": 19,
     "metadata": {},
     "output_type": "execute_result"
    }
   ],
   "source": [
    "best_clf"
   ]
  },
  {
   "cell_type": "code",
   "execution_count": null,
   "id": "8eaf7f58",
   "metadata": {
    "papermill": {
     "duration": 0.008112,
     "end_time": "2022-07-22T01:32:13.036502",
     "exception": false,
     "start_time": "2022-07-22T01:32:13.028390",
     "status": "completed"
    },
    "tags": []
   },
   "outputs": [],
   "source": []
  },
  {
   "cell_type": "markdown",
   "id": "d8e540d1",
   "metadata": {
    "papermill": {
     "duration": 0.008084,
     "end_time": "2022-07-22T01:32:13.053057",
     "exception": false,
     "start_time": "2022-07-22T01:32:13.044973",
     "status": "completed"
    },
    "tags": []
   },
   "source": [
    "## Evaluation\n",
    "\n",
    "The SVM is best so far, but there is no predict proba."
   ]
  },
  {
   "cell_type": "code",
   "execution_count": 20,
   "id": "521ca288",
   "metadata": {
    "execution": {
     "iopub.execute_input": "2022-07-22T01:32:13.070676Z",
     "iopub.status.busy": "2022-07-22T01:32:13.070376Z",
     "iopub.status.idle": "2022-07-22T01:32:13.407402Z",
     "shell.execute_reply": "2022-07-22T01:32:13.406445Z"
    },
    "papermill": {
     "duration": 0.349039,
     "end_time": "2022-07-22T01:32:13.410028",
     "exception": false,
     "start_time": "2022-07-22T01:32:13.060989",
     "status": "completed"
    },
    "tags": []
   },
   "outputs": [
    {
     "name": "stdout",
     "output_type": "stream",
     "text": [
      "sgd6\n",
      "              precision    recall  f1-score   support\n",
      "\n",
      "           0       0.88      1.00      0.94      5079\n",
      "           1       0.73      0.03      0.07       686\n",
      "\n",
      "    accuracy                           0.88      5765\n",
      "   macro avg       0.81      0.52      0.50      5765\n",
      "weighted avg       0.87      0.88      0.83      5765\n",
      "\n",
      "logreg6\n",
      "              precision    recall  f1-score   support\n",
      "\n",
      "           0       0.95      0.87      0.91      5079\n",
      "           1       0.41      0.66      0.51       686\n",
      "\n",
      "    accuracy                           0.85      5765\n",
      "   macro avg       0.68      0.77      0.71      5765\n",
      "weighted avg       0.89      0.85      0.86      5765\n",
      "\n",
      "nb6\n",
      "              precision    recall  f1-score   support\n",
      "\n",
      "           0       0.94      0.77      0.85      5079\n",
      "           1       0.28      0.65      0.39       686\n",
      "\n",
      "    accuracy                           0.76      5765\n",
      "   macro avg       0.61      0.71      0.62      5765\n",
      "weighted avg       0.86      0.76      0.80      5765\n",
      "\n",
      "baglog6\n",
      "              precision    recall  f1-score   support\n",
      "\n",
      "           0       0.93      0.93      0.93      5079\n",
      "           1       0.47      0.50      0.49       686\n",
      "\n",
      "    accuracy                           0.87      5765\n",
      "   macro avg       0.70      0.71      0.71      5765\n",
      "weighted avg       0.88      0.87      0.88      5765\n",
      "\n",
      "adab_tree6\n",
      "              precision    recall  f1-score   support\n",
      "\n",
      "           0       0.91      0.97      0.94      5079\n",
      "           1       0.57      0.32      0.41       686\n",
      "\n",
      "    accuracy                           0.89      5765\n",
      "   macro avg       0.74      0.64      0.67      5765\n",
      "weighted avg       0.87      0.89      0.88      5765\n",
      "\n",
      "adab_log6\n",
      "              precision    recall  f1-score   support\n",
      "\n",
      "           0       0.00      0.00      0.00      5079\n",
      "           1       0.12      1.00      0.21       686\n",
      "\n",
      "    accuracy                           0.12      5765\n",
      "   macro avg       0.06      0.50      0.11      5765\n",
      "weighted avg       0.01      0.12      0.03      5765\n",
      "\n"
     ]
    }
   ],
   "source": [
    "for ml in best_clf.keys():\n",
    "    Y_prob_pred = best_clf[ml].predict(X_val)\n",
    "    print(ml)\n",
    "    print(classification_report(Y_val,Y_prob_pred))"
   ]
  },
  {
   "cell_type": "code",
   "execution_count": null,
   "id": "535590d5-2069-4e81-b12d-d43d5590963b",
   "metadata": {
    "papermill": {
     "duration": 0.017369,
     "end_time": "2022-07-22T01:32:13.445023",
     "exception": false,
     "start_time": "2022-07-22T01:32:13.427654",
     "status": "completed"
    },
    "tags": []
   },
   "outputs": [],
   "source": []
  },
  {
   "cell_type": "code",
   "execution_count": 21,
   "id": "924eb676-b6e2-432b-ba93-089fd1a89946",
   "metadata": {
    "execution": {
     "iopub.execute_input": "2022-07-22T01:32:13.486706Z",
     "iopub.status.busy": "2022-07-22T01:32:13.486184Z",
     "iopub.status.idle": "2022-07-22T01:32:13.494879Z",
     "shell.execute_reply": "2022-07-22T01:32:13.493525Z"
    },
    "papermill": {
     "duration": 0.029279,
     "end_time": "2022-07-22T01:32:13.497419",
     "exception": false,
     "start_time": "2022-07-22T01:32:13.468140",
     "status": "completed"
    },
    "tags": []
   },
   "outputs": [
    {
     "data": {
      "text/plain": [
       "0.8810060711188205"
      ]
     },
     "execution_count": 21,
     "metadata": {},
     "output_type": "execute_result"
    }
   ],
   "source": [
    "1-Y_val.mean()"
   ]
  }
 ],
 "metadata": {
  "kernelspec": {
   "display_name": "Python 3 (ipykernel)",
   "language": "python",
   "name": "python3"
  },
  "language_info": {
   "codemirror_mode": {
    "name": "ipython",
    "version": 3
   },
   "file_extension": ".py",
   "mimetype": "text/x-python",
   "name": "python",
   "nbconvert_exporter": "python",
   "pygments_lexer": "ipython3",
   "version": "3.7.13"
  },
  "papermill": {
   "default_parameters": {},
   "duration": 851.972891,
   "end_time": "2022-07-22T01:32:16.133776",
   "environment_variables": {},
   "exception": null,
   "input_path": "notebooks/iteration_2/2-model_6.ipynb",
   "output_path": "notebooks/iteration_2/2-model_6-output.ipynb",
   "parameters": {},
   "start_time": "2022-07-22T01:18:04.160885",
   "version": "2.3.4"
  },
  "vscode": {
   "interpreter": {
    "hash": "cfaee8345a7381c4d4eb2d178d3529454f9688cb724b599027e029325603d2a6"
   }
  }
 },
 "nbformat": 4,
 "nbformat_minor": 5
}
