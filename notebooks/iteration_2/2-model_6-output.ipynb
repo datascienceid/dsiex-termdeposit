{
 "cells": [
  {
   "cell_type": "markdown",
   "id": "5d1c3360",
   "metadata": {
    "papermill": {
     "duration": 0.006501,
     "end_time": "2022-07-28T14:20:12.100027",
     "exception": false,
     "start_time": "2022-07-28T14:20:12.093526",
     "status": "completed"
    },
    "tags": []
   },
   "source": [
    "# Modelling v6\n",
    "\n",
    "modelling use the latest exploration\n",
    "\n",
    "# Goal\n",
    "\n",
    "Get the model from the prepared data. With undersampling + sample weight. \n",
    "\n",
    "# Plan\n",
    "\n",
    "Checklist what will be done on the notebook :\n",
    "\n",
    "    [*] Get Data\n",
    "    [*] Modelling\n",
    "\n"
   ]
  },
  {
   "cell_type": "code",
   "execution_count": 1,
   "id": "c039a1e0",
   "metadata": {
    "execution": {
     "iopub.execute_input": "2022-07-28T14:20:12.111977Z",
     "iopub.status.busy": "2022-07-28T14:20:12.111567Z",
     "iopub.status.idle": "2022-07-28T14:20:12.936002Z",
     "shell.execute_reply": "2022-07-28T14:20:12.934518Z"
    },
    "papermill": {
     "duration": 0.833141,
     "end_time": "2022-07-28T14:20:12.938311",
     "exception": false,
     "start_time": "2022-07-28T14:20:12.105170",
     "status": "completed"
    },
    "tags": []
   },
   "outputs": [],
   "source": [
    "import yaml\n",
    "import pandas as pd\n",
    "import matplotlib.pyplot as plt\n",
    "import os\n",
    "import joblib\n",
    "import numpy as np\n",
    "from sklearn.preprocessing import OneHotEncoder, MinMaxScaler\n",
    "from sklearn.model_selection import RandomizedSearchCV\n",
    "from sklearn.metrics import classification_report\n",
    "import seaborn as sns\n",
    "from statsmodels.graphics.mosaicplot import mosaic\n",
    "import time\n",
    "\n",
    "from scipy.stats import uniform,randint\n",
    "import warnings\n",
    "warnings.filterwarnings(\"ignore\")"
   ]
  },
  {
   "cell_type": "code",
   "execution_count": 2,
   "id": "e7fa7fb4",
   "metadata": {
    "execution": {
     "iopub.execute_input": "2022-07-28T14:20:12.950776Z",
     "iopub.status.busy": "2022-07-28T14:20:12.949766Z",
     "iopub.status.idle": "2022-07-28T14:20:12.961294Z",
     "shell.execute_reply": "2022-07-28T14:20:12.959966Z"
    },
    "papermill": {
     "duration": 0.020647,
     "end_time": "2022-07-28T14:20:12.963993",
     "exception": false,
     "start_time": "2022-07-28T14:20:12.943346",
     "status": "completed"
    },
    "tags": []
   },
   "outputs": [],
   "source": [
    "if 'iter' in os.getcwd().split('/')[-1]:\n",
    "    ######## run manually #############\n",
    "    with open(\"../../config.yaml\", \"r\") as f:\n",
    "        config = yaml.load(f, Loader=yaml.FullLoader)\n",
    "        \n",
    "    if os.name == 'posix' :\n",
    "        PATH_MODEL = config['path']['artifact']+os.getcwd().split('/')[-1]+'/'\n",
    "    else:\n",
    "        PATH_MODEL = config['path']['artifact']+os.getcwd().split('\\\\')[-1]+'/'\n",
    "\n",
    "else:\n",
    "    ######### run with makefile #############\n",
    "    with open(\"config-make.yaml\", \"r\") as f:\n",
    "        config = yaml.load(f, Loader=yaml.FullLoader)\n",
    "\n",
    "    if os.name == 'posix' :\n",
    "        PATH_MODEL = config['path']['artifact']+'iteration_2/'\n",
    "    else:\n",
    "        PATH_MODEL = config['path']['artifact']+'iteration_2/'\n",
    "\n",
    "PATH_RAW = config['path']['raw']\n",
    "PATH_INTERIM = config['path']['interim']\n",
    "PATH_PROCESSED = config['path']['processed']\n",
    "PATH_UDF = config['path']['udf']"
   ]
  },
  {
   "cell_type": "code",
   "execution_count": 3,
   "id": "d1d5cdbb",
   "metadata": {
    "execution": {
     "iopub.execute_input": "2022-07-28T14:20:12.976238Z",
     "iopub.status.busy": "2022-07-28T14:20:12.975669Z",
     "iopub.status.idle": "2022-07-28T14:20:13.022446Z",
     "shell.execute_reply": "2022-07-28T14:20:13.021002Z"
    },
    "papermill": {
     "duration": 0.055832,
     "end_time": "2022-07-28T14:20:13.024734",
     "exception": false,
     "start_time": "2022-07-28T14:20:12.968902",
     "status": "completed"
    },
    "tags": []
   },
   "outputs": [],
   "source": [
    "from sklearn.linear_model import LogisticRegression, ElasticNet, SGDClassifier\n",
    "from sklearn.ensemble import RandomForestClassifier, BaggingClassifier, AdaBoostClassifier\n",
    "from sklearn.naive_bayes import GaussianNB\n",
    "from sklearn.gaussian_process import GaussianProcessRegressor"
   ]
  },
  {
   "cell_type": "code",
   "execution_count": null,
   "id": "bbf36be2",
   "metadata": {
    "papermill": {
     "duration": 0.005098,
     "end_time": "2022-07-28T14:20:13.034698",
     "exception": false,
     "start_time": "2022-07-28T14:20:13.029600",
     "status": "completed"
    },
    "tags": []
   },
   "outputs": [],
   "source": []
  },
  {
   "cell_type": "markdown",
   "id": "c5622dbd",
   "metadata": {
    "papermill": {
     "duration": 0.061833,
     "end_time": "2022-07-28T14:20:13.101642",
     "exception": false,
     "start_time": "2022-07-28T14:20:13.039809",
     "status": "completed"
    },
    "tags": []
   },
   "source": [
    "## Get Data"
   ]
  },
  {
   "cell_type": "code",
   "execution_count": 4,
   "id": "99d85dbe",
   "metadata": {
    "execution": {
     "iopub.execute_input": "2022-07-28T14:20:13.114046Z",
     "iopub.status.busy": "2022-07-28T14:20:13.113754Z",
     "iopub.status.idle": "2022-07-28T14:20:13.228056Z",
     "shell.execute_reply": "2022-07-28T14:20:13.226910Z"
    },
    "papermill": {
     "duration": 0.123427,
     "end_time": "2022-07-28T14:20:13.231026",
     "exception": false,
     "start_time": "2022-07-28T14:20:13.107599",
     "status": "completed"
    },
    "tags": []
   },
   "outputs": [],
   "source": [
    "raw_data = pd.read_csv(PATH_PROCESSED+'prep_iter2.csv')\n",
    "col_cat_load = joblib.load(PATH_MODEL+'cat_names.pkl')\n",
    "col_num_load = joblib.load(PATH_MODEL+'num_names.pkl')"
   ]
  },
  {
   "cell_type": "code",
   "execution_count": 5,
   "id": "550a8fce-d629-4a1a-8b2f-58be74dc1016",
   "metadata": {
    "execution": {
     "iopub.execute_input": "2022-07-28T14:20:13.243005Z",
     "iopub.status.busy": "2022-07-28T14:20:13.242356Z",
     "iopub.status.idle": "2022-07-28T14:20:13.267855Z",
     "shell.execute_reply": "2022-07-28T14:20:13.266302Z"
    },
    "papermill": {
     "duration": 0.034249,
     "end_time": "2022-07-28T14:20:13.269933",
     "exception": false,
     "start_time": "2022-07-28T14:20:13.235684",
     "status": "completed"
    },
    "tags": []
   },
   "outputs": [],
   "source": [
    "all_tr = raw_data[raw_data.is_train == 1]\n",
    "down_size = int(len(all_tr[all_tr.target == 1]) * 3.5)\n",
    "all_tr0 = all_tr[all_tr.target == 0].sample(down_size,random_state = 125)\n",
    "\n",
    "all_tr0['sweight'] = 1.5\n",
    "all_tr1 = all_tr[all_tr.target == 1]\n",
    "all_tr1['sweight'] = 1\n",
    "\n",
    "all_tr_down = pd.concat([all_tr0,all_tr1])\n",
    "all_tr_down.target.value_counts(normalize = 1)\n",
    "\n",
    "samp_w = all_tr_down['sweight']"
   ]
  },
  {
   "cell_type": "code",
   "execution_count": null,
   "id": "12ef35c4-784b-441f-bc40-784ea7a8983a",
   "metadata": {
    "papermill": {
     "duration": 0.005571,
     "end_time": "2022-07-28T14:20:13.280742",
     "exception": false,
     "start_time": "2022-07-28T14:20:13.275171",
     "status": "completed"
    },
    "tags": []
   },
   "outputs": [],
   "source": []
  },
  {
   "cell_type": "code",
   "execution_count": 6,
   "id": "98080397",
   "metadata": {
    "execution": {
     "iopub.execute_input": "2022-07-28T14:20:13.293348Z",
     "iopub.status.busy": "2022-07-28T14:20:13.292647Z",
     "iopub.status.idle": "2022-07-28T14:20:13.308466Z",
     "shell.execute_reply": "2022-07-28T14:20:13.307395Z"
    },
    "papermill": {
     "duration": 0.025116,
     "end_time": "2022-07-28T14:20:13.311291",
     "exception": false,
     "start_time": "2022-07-28T14:20:13.286175",
     "status": "completed"
    },
    "tags": []
   },
   "outputs": [],
   "source": [
    "X_tr = all_tr_down[col_num_load+col_cat_load]\n",
    "Y_tr = all_tr_down['target'].values\n",
    "\n",
    "X_val = raw_data[raw_data.is_train == 0][col_num_load+col_cat_load]\n",
    "Y_val = raw_data[raw_data.is_train == 0]['target'].values"
   ]
  },
  {
   "cell_type": "code",
   "execution_count": 7,
   "id": "c13217a0",
   "metadata": {
    "execution": {
     "iopub.execute_input": "2022-07-28T14:20:13.324345Z",
     "iopub.status.busy": "2022-07-28T14:20:13.323677Z",
     "iopub.status.idle": "2022-07-28T14:20:13.332171Z",
     "shell.execute_reply": "2022-07-28T14:20:13.331132Z"
    },
    "papermill": {
     "duration": 0.018164,
     "end_time": "2022-07-28T14:20:13.334501",
     "exception": false,
     "start_time": "2022-07-28T14:20:13.316337",
     "status": "completed"
    },
    "tags": []
   },
   "outputs": [
    {
     "data": {
      "text/plain": [
       "(16974, 26)"
      ]
     },
     "execution_count": 7,
     "metadata": {},
     "output_type": "execute_result"
    }
   ],
   "source": [
    "X_tr.shape"
   ]
  },
  {
   "cell_type": "code",
   "execution_count": 8,
   "id": "1901eed4",
   "metadata": {
    "execution": {
     "iopub.execute_input": "2022-07-28T14:20:13.347060Z",
     "iopub.status.busy": "2022-07-28T14:20:13.346712Z",
     "iopub.status.idle": "2022-07-28T14:20:13.353288Z",
     "shell.execute_reply": "2022-07-28T14:20:13.352380Z"
    },
    "papermill": {
     "duration": 0.016199,
     "end_time": "2022-07-28T14:20:13.355717",
     "exception": false,
     "start_time": "2022-07-28T14:20:13.339518",
     "status": "completed"
    },
    "tags": []
   },
   "outputs": [
    {
     "data": {
      "text/plain": [
       "(5765, 26)"
      ]
     },
     "execution_count": 8,
     "metadata": {},
     "output_type": "execute_result"
    }
   ],
   "source": [
    "X_val.shape"
   ]
  },
  {
   "cell_type": "code",
   "execution_count": 9,
   "id": "bc2a5022",
   "metadata": {
    "execution": {
     "iopub.execute_input": "2022-07-28T14:20:13.368409Z",
     "iopub.status.busy": "2022-07-28T14:20:13.367745Z",
     "iopub.status.idle": "2022-07-28T14:20:13.373665Z",
     "shell.execute_reply": "2022-07-28T14:20:13.372653Z"
    },
    "papermill": {
     "duration": 0.015891,
     "end_time": "2022-07-28T14:20:13.376501",
     "exception": false,
     "start_time": "2022-07-28T14:20:13.360610",
     "status": "completed"
    },
    "tags": []
   },
   "outputs": [
    {
     "data": {
      "text/plain": [
       "(5765,)"
      ]
     },
     "execution_count": 9,
     "metadata": {},
     "output_type": "execute_result"
    }
   ],
   "source": [
    "Y_val.shape"
   ]
  },
  {
   "cell_type": "code",
   "execution_count": 10,
   "id": "a21af582-44d6-423f-b994-365a2e7921f3",
   "metadata": {
    "execution": {
     "iopub.execute_input": "2022-07-28T14:20:13.389782Z",
     "iopub.status.busy": "2022-07-28T14:20:13.388803Z",
     "iopub.status.idle": "2022-07-28T14:20:13.396403Z",
     "shell.execute_reply": "2022-07-28T14:20:13.395150Z"
    },
    "papermill": {
     "duration": 0.016856,
     "end_time": "2022-07-28T14:20:13.398810",
     "exception": false,
     "start_time": "2022-07-28T14:20:13.381954",
     "status": "completed"
    },
    "tags": []
   },
   "outputs": [
    {
     "data": {
      "text/plain": [
       "0.2222222222222222"
      ]
     },
     "execution_count": 10,
     "metadata": {},
     "output_type": "execute_result"
    }
   ],
   "source": [
    "Y_tr.mean()"
   ]
  },
  {
   "cell_type": "code",
   "execution_count": 11,
   "id": "d7ee5211-fe70-44f9-a4b9-d704bebb7663",
   "metadata": {
    "execution": {
     "iopub.execute_input": "2022-07-28T14:20:13.411509Z",
     "iopub.status.busy": "2022-07-28T14:20:13.411199Z",
     "iopub.status.idle": "2022-07-28T14:20:13.421815Z",
     "shell.execute_reply": "2022-07-28T14:20:13.420465Z"
    },
    "papermill": {
     "duration": 0.020222,
     "end_time": "2022-07-28T14:20:13.424615",
     "exception": false,
     "start_time": "2022-07-28T14:20:13.404393",
     "status": "completed"
    },
    "tags": []
   },
   "outputs": [
    {
     "data": {
      "text/plain": [
       "5079     1.5\n",
       "17291    1.5\n",
       "9206     1.5\n",
       "4581     1.5\n",
       "19666    1.5\n",
       "        ... \n",
       "38422    1.0\n",
       "38424    1.0\n",
       "38425    1.0\n",
       "38426    1.0\n",
       "38427    1.0\n",
       "Name: sweight, Length: 16974, dtype: float64"
      ]
     },
     "execution_count": 11,
     "metadata": {},
     "output_type": "execute_result"
    }
   ],
   "source": [
    "samp_w"
   ]
  },
  {
   "cell_type": "code",
   "execution_count": null,
   "id": "c1385d3e",
   "metadata": {
    "papermill": {
     "duration": 0.00658,
     "end_time": "2022-07-28T14:20:13.436782",
     "exception": false,
     "start_time": "2022-07-28T14:20:13.430202",
     "status": "completed"
    },
    "tags": []
   },
   "outputs": [],
   "source": []
  },
  {
   "cell_type": "markdown",
   "id": "d19ae732",
   "metadata": {
    "papermill": {
     "duration": 0.005289,
     "end_time": "2022-07-28T14:20:13.447812",
     "exception": false,
     "start_time": "2022-07-28T14:20:13.442523",
     "status": "completed"
    },
    "tags": []
   },
   "source": [
    "## Modelling"
   ]
  },
  {
   "cell_type": "code",
   "execution_count": 12,
   "id": "b30be5d6",
   "metadata": {
    "execution": {
     "iopub.execute_input": "2022-07-28T14:20:13.461376Z",
     "iopub.status.busy": "2022-07-28T14:20:13.460065Z",
     "iopub.status.idle": "2022-07-28T14:20:13.468095Z",
     "shell.execute_reply": "2022-07-28T14:20:13.466885Z"
    },
    "papermill": {
     "duration": 0.017691,
     "end_time": "2022-07-28T14:20:13.470722",
     "exception": false,
     "start_time": "2022-07-28T14:20:13.453031",
     "status": "completed"
    },
    "tags": []
   },
   "outputs": [
    {
     "data": {
      "text/plain": [
       "{0: 1, 1: 2}"
      ]
     },
     "execution_count": 12,
     "metadata": {},
     "output_type": "execute_result"
    }
   ],
   "source": [
    "# proportion_cls = pd.Series(Y_tr).value_counts(normalize = True)\n",
    "# scale_pos_w = np.ceil(proportion_cls[0]/proportion_cls[1])\n",
    "scale_pos_w = 2\n",
    "cw = {0:1, 1:scale_pos_w}\n",
    "cw\n",
    "# scale_pos_weight for xgboost"
   ]
  },
  {
   "cell_type": "code",
   "execution_count": 13,
   "id": "ff647612",
   "metadata": {
    "execution": {
     "iopub.execute_input": "2022-07-28T14:20:13.483513Z",
     "iopub.status.busy": "2022-07-28T14:20:13.482689Z",
     "iopub.status.idle": "2022-07-28T14:20:13.487411Z",
     "shell.execute_reply": "2022-07-28T14:20:13.486513Z"
    },
    "papermill": {
     "duration": 0.014045,
     "end_time": "2022-07-28T14:20:13.489794",
     "exception": false,
     "start_time": "2022-07-28T14:20:13.475749",
     "status": "completed"
    },
    "tags": []
   },
   "outputs": [],
   "source": [
    "# proportion_cls"
   ]
  },
  {
   "cell_type": "code",
   "execution_count": 14,
   "id": "2f47e764",
   "metadata": {
    "execution": {
     "iopub.execute_input": "2022-07-28T14:20:13.503787Z",
     "iopub.status.busy": "2022-07-28T14:20:13.502876Z",
     "iopub.status.idle": "2022-07-28T14:20:13.510878Z",
     "shell.execute_reply": "2022-07-28T14:20:13.508963Z"
    },
    "papermill": {
     "duration": 0.018142,
     "end_time": "2022-07-28T14:20:13.513863",
     "exception": false,
     "start_time": "2022-07-28T14:20:13.495721",
     "status": "completed"
    },
    "tags": []
   },
   "outputs": [],
   "source": [
    "base_logreg = LogisticRegression(class_weight=cw)\n",
    "all_model = {'sgd6' : SGDClassifier(class_weight=cw,max_iter = 2500,early_stopping=True,warm_start=True,eta0=0.05)\n",
    "            ,'logreg6' : LogisticRegression(class_weight=cw)\n",
    "            ,'nb6': GaussianNB(priors=[0.778,0.222])\n",
    "            ,'bagtree6': BaggingClassifier(random_state=234)\n",
    "            ,'baglog6': BaggingClassifier(base_estimator=base_logreg, random_state=234)\n",
    "            ,'adab_tree6':AdaBoostClassifier(random_state=234)\n",
    "            ,'adab_log6':AdaBoostClassifier(base_estimator=base_logreg,random_state=234)\n",
    "            }"
   ]
  },
  {
   "cell_type": "code",
   "execution_count": 15,
   "id": "78276dfa",
   "metadata": {
    "execution": {
     "iopub.execute_input": "2022-07-28T14:20:13.526567Z",
     "iopub.status.busy": "2022-07-28T14:20:13.525487Z",
     "iopub.status.idle": "2022-07-28T14:20:13.542603Z",
     "shell.execute_reply": "2022-07-28T14:20:13.541480Z"
    },
    "papermill": {
     "duration": 0.026284,
     "end_time": "2022-07-28T14:20:13.545165",
     "exception": false,
     "start_time": "2022-07-28T14:20:13.518881",
     "status": "completed"
    },
    "tags": []
   },
   "outputs": [],
   "source": [
    "param_options = {'logreg6' : dict(C=uniform(loc=0, scale=2)\n",
    "                                 ,penalty=['l2', 'l1']\n",
    "                                 ,solver=['liblinear', 'sag'])\n",
    "                 ,'nb6' : dict(var_smoothing = uniform(loc=1e-8, scale=1e-2))\n",
    "                 ,'sgd6' : dict(loss=['hinge', 'squared_hinge', 'perceptron']\n",
    "                                ,penalty=['l2', 'l1']\n",
    "                                ,alpha=uniform(loc=0.1, scale=0.95)\n",
    "                                ,l1_ratio=uniform(loc=0.1, scale=0.85)\n",
    "                                ,learning_rate=['constant','optimal','invscaling','adaptive'])\n",
    "                 ,'bagtree6' : dict(n_estimators=randint(4, 35)\n",
    "                                   ,max_samples=uniform(loc=0.3,scale=0.7)\n",
    "                                   ,max_features=uniform(loc=0.3,scale=0.7)\n",
    "                                   ,warm_start=[False,True])\n",
    "                 ,'baglog6' : dict(n_estimators=randint(4, 35)\n",
    "                                   ,max_samples=uniform(loc=0.3,scale=0.7)\n",
    "                                   ,max_features=uniform(loc=0.3,scale=0.7)\n",
    "                                   ,warm_start=[False,True])\n",
    "                 ,'adab_tree6' : dict(n_estimators=randint(50, 120)\n",
    "                                   ,learning_rate=uniform(loc=0.1,scale=0.85)\n",
    "                                  )\n",
    "                 ,'adab_log6' : dict(n_estimators=randint(50, 120)\n",
    "                                   ,learning_rate=uniform(loc=0.1,scale=0.85)\n",
    "                                  )\n",
    "                }\n",
    "\n",
    " # min_weight_fraction_leaf must in [0, 0.5]"
   ]
  },
  {
   "cell_type": "code",
   "execution_count": 15,
   "id": "35b5bb7a",
   "metadata": {
    "papermill": {
     "duration": 727.259769,
     "end_time": "2022-07-28T14:32:20.810252",
     "exception": false,
     "start_time": "2022-07-28T14:20:13.550483",
     "status": "completed"
    },
    "tags": []
   },
   "outputs": [],
   "source": [
    "## scoring\n",
    "## https://scikit-learn.org/stable/modules/model_evaluation.html#scoring-parameter\n",
    "best_clf = {}\n",
    "best_scr = {}\n",
    "sla_model = {}\n",
    "for mdl in all_model.keys():\n",
    "    L1 = time.time()\n",
    "    clf = all_model[mdl]\n",
    "    parm = param_options[mdl]\n",
    "    RS = RandomizedSearchCV(clf, parm, n_iter = 100, cv = 5, scoring = 'roc_auc',n_jobs = 10)\n",
    "        \n",
    "    RS.fit(X_tr,Y_tr, sample_weight=samp_w)\n",
    "    \n",
    "    best_clf[mdl] = RS.best_estimator_\n",
    "    best_scr[mdl] = RS.best_score_\n",
    "    diff_time = round((time.time()-L1)/60, 2)\n",
    "    \n",
    "    joblib.dump(best_clf[mdl],PATH_MODEL+mdl+'.pkl')\n",
    "    \n",
    "    print(mdl, 'is done in ',diff_time, ' minutes')\n",
    "    sla_model[mdl] = diff_time"
   ]
  },
  {
   "cell_type": "code",
   "execution_count": 17,
   "id": "d6a5430d",
   "metadata": {
    "execution": {
     "iopub.execute_input": "2022-07-28T14:32:20.836253Z",
     "iopub.status.busy": "2022-07-28T14:32:20.835243Z",
     "iopub.status.idle": "2022-07-28T14:32:20.842936Z",
     "shell.execute_reply": "2022-07-28T14:32:20.841189Z"
    },
    "papermill": {
     "duration": 0.022421,
     "end_time": "2022-07-28T14:32:20.845624",
     "exception": false,
     "start_time": "2022-07-28T14:32:20.823203",
     "status": "completed"
    },
    "tags": []
   },
   "outputs": [
    {
     "data": {
      "text/plain": [
       "{'sgd6': 0.2,\n",
       " 'logreg6': 0.74,\n",
       " 'nb6': 0.05,\n",
       " 'bagtree6': 0.53,\n",
       " 'baglog6': 4.26,\n",
       " 'adab_tree6': 1.55,\n",
       " 'adab_log6': 4.79}"
      ]
     },
     "execution_count": 17,
     "metadata": {},
     "output_type": "execute_result"
    }
   ],
   "source": [
    "sla_model"
   ]
  },
  {
   "cell_type": "code",
   "execution_count": 18,
   "id": "b3d539b5",
   "metadata": {
    "execution": {
     "iopub.execute_input": "2022-07-28T14:32:20.864720Z",
     "iopub.status.busy": "2022-07-28T14:32:20.863377Z",
     "iopub.status.idle": "2022-07-28T14:32:20.870457Z",
     "shell.execute_reply": "2022-07-28T14:32:20.869371Z"
    },
    "papermill": {
     "duration": 0.019307,
     "end_time": "2022-07-28T14:32:20.872748",
     "exception": false,
     "start_time": "2022-07-28T14:32:20.853441",
     "status": "completed"
    },
    "tags": []
   },
   "outputs": [
    {
     "data": {
      "text/plain": [
       "{'sgd6': 0.8323752731702989,\n",
       " 'logreg6': 0.8332433215818229,\n",
       " 'nb6': 0.7610658079641831,\n",
       " 'bagtree6': 0.8270074449433882,\n",
       " 'baglog6': 0.8354422867843763,\n",
       " 'adab_tree6': 0.8462773278756875,\n",
       " 'adab_log6': 0.3448619313830982}"
      ]
     },
     "execution_count": 18,
     "metadata": {},
     "output_type": "execute_result"
    }
   ],
   "source": [
    "best_scr"
   ]
  },
  {
   "cell_type": "code",
   "execution_count": 19,
   "id": "42743e3e",
   "metadata": {
    "execution": {
     "iopub.execute_input": "2022-07-28T14:32:20.891150Z",
     "iopub.status.busy": "2022-07-28T14:32:20.889757Z",
     "iopub.status.idle": "2022-07-28T14:32:20.902567Z",
     "shell.execute_reply": "2022-07-28T14:32:20.901530Z"
    },
    "papermill": {
     "duration": 0.02449,
     "end_time": "2022-07-28T14:32:20.905153",
     "exception": false,
     "start_time": "2022-07-28T14:32:20.880663",
     "status": "completed"
    },
    "tags": []
   },
   "outputs": [
    {
     "data": {
      "text/plain": [
       "{'sgd6': SGDClassifier(alpha=0.7740025389951034, class_weight={0: 1, 1: 2},\n",
       "               early_stopping=True, eta0=0.05, l1_ratio=0.320449581358638,\n",
       "               learning_rate='invscaling', max_iter=2500, warm_start=True),\n",
       " 'logreg6': LogisticRegression(C=0.06403195312003063, class_weight={0: 1, 1: 2},\n",
       "                    penalty='l1', solver='liblinear'),\n",
       " 'nb6': GaussianNB(priors=[0.778, 0.222], var_smoothing=1.7399798799287706e-05),\n",
       " 'bagtree6': BaggingClassifier(max_features=0.721855438722457,\n",
       "                   max_samples=0.5163370052061359, n_estimators=34,\n",
       "                   random_state=234, warm_start=True),\n",
       " 'baglog6': BaggingClassifier(base_estimator=LogisticRegression(class_weight={0: 1, 1: 2}),\n",
       "                   max_features=0.32573528487181874,\n",
       "                   max_samples=0.5485298898362136, n_estimators=15,\n",
       "                   random_state=234, warm_start=True),\n",
       " 'adab_tree6': AdaBoostClassifier(learning_rate=0.6796433013905538, n_estimators=113,\n",
       "                    random_state=234),\n",
       " 'adab_log6': AdaBoostClassifier(base_estimator=LogisticRegression(class_weight={0: 1, 1: 2}),\n",
       "                    learning_rate=0.9232220646349542, n_estimators=110,\n",
       "                    random_state=234)}"
      ]
     },
     "execution_count": 19,
     "metadata": {},
     "output_type": "execute_result"
    }
   ],
   "source": [
    "best_clf"
   ]
  },
  {
   "cell_type": "code",
   "execution_count": null,
   "id": "8eaf7f58",
   "metadata": {
    "papermill": {
     "duration": 0.008159,
     "end_time": "2022-07-28T14:32:20.922205",
     "exception": false,
     "start_time": "2022-07-28T14:32:20.914046",
     "status": "completed"
    },
    "tags": []
   },
   "outputs": [],
   "source": []
  },
  {
   "cell_type": "markdown",
   "id": "d8e540d1",
   "metadata": {
    "papermill": {
     "duration": 0.007625,
     "end_time": "2022-07-28T14:32:20.937982",
     "exception": false,
     "start_time": "2022-07-28T14:32:20.930357",
     "status": "completed"
    },
    "tags": []
   },
   "source": [
    "## Evaluation\n",
    "\n",
    "The SVM is best so far, but there is no predict proba."
   ]
  },
  {
   "cell_type": "code",
   "execution_count": 20,
   "id": "521ca288",
   "metadata": {
    "execution": {
     "iopub.execute_input": "2022-07-28T14:32:20.955179Z",
     "iopub.status.busy": "2022-07-28T14:32:20.954095Z",
     "iopub.status.idle": "2022-07-28T14:32:21.292522Z",
     "shell.execute_reply": "2022-07-28T14:32:21.291508Z"
    },
    "papermill": {
     "duration": 0.349722,
     "end_time": "2022-07-28T14:32:21.295307",
     "exception": false,
     "start_time": "2022-07-28T14:32:20.945585",
     "status": "completed"
    },
    "tags": []
   },
   "outputs": [
    {
     "name": "stdout",
     "output_type": "stream",
     "text": [
      "sgd6\n",
      "              precision    recall  f1-score   support\n",
      "\n",
      "           0       0.88      1.00      0.94      5079\n",
      "           1       0.00      0.00      0.00       686\n",
      "\n",
      "    accuracy                           0.88      5765\n",
      "   macro avg       0.44      0.50      0.47      5765\n",
      "weighted avg       0.78      0.88      0.83      5765\n",
      "\n",
      "logreg6\n",
      "              precision    recall  f1-score   support\n",
      "\n",
      "           0       0.94      0.92      0.93      5079\n",
      "           1       0.48      0.55      0.51       686\n",
      "\n",
      "    accuracy                           0.87      5765\n",
      "   macro avg       0.71      0.73      0.72      5765\n",
      "weighted avg       0.88      0.87      0.88      5765\n",
      "\n",
      "nb6\n",
      "              precision    recall  f1-score   support\n",
      "\n",
      "           0       0.94      0.77      0.85      5079\n",
      "           1       0.28      0.65      0.39       686\n",
      "\n",
      "    accuracy                           0.76      5765\n",
      "   macro avg       0.61      0.71      0.62      5765\n",
      "weighted avg       0.86      0.76      0.80      5765\n",
      "\n",
      "bagtree6\n",
      "              precision    recall  f1-score   support\n",
      "\n",
      "           0       0.93      0.94      0.93      5079\n",
      "           1       0.51      0.50      0.51       686\n",
      "\n",
      "    accuracy                           0.88      5765\n",
      "   macro avg       0.72      0.72      0.72      5765\n",
      "weighted avg       0.88      0.88      0.88      5765\n",
      "\n",
      "baglog6\n",
      "              precision    recall  f1-score   support\n",
      "\n",
      "           0       0.91      0.98      0.94      5079\n",
      "           1       0.60      0.27      0.37       686\n",
      "\n",
      "    accuracy                           0.89      5765\n",
      "   macro avg       0.75      0.62      0.65      5765\n",
      "weighted avg       0.87      0.89      0.87      5765\n",
      "\n",
      "adab_tree6\n",
      "              precision    recall  f1-score   support\n",
      "\n",
      "           0       0.92      0.96      0.94      5079\n",
      "           1       0.54      0.39      0.45       686\n",
      "\n",
      "    accuracy                           0.89      5765\n",
      "   macro avg       0.73      0.67      0.69      5765\n",
      "weighted avg       0.87      0.89      0.88      5765\n",
      "\n",
      "adab_log6\n",
      "              precision    recall  f1-score   support\n",
      "\n",
      "           0       0.00      0.00      0.00      5079\n",
      "           1       0.12      1.00      0.21       686\n",
      "\n",
      "    accuracy                           0.12      5765\n",
      "   macro avg       0.06      0.50      0.11      5765\n",
      "weighted avg       0.01      0.12      0.03      5765\n",
      "\n"
     ]
    }
   ],
   "source": [
    "for ml in best_clf.keys():\n",
    "    Y_prob_pred = best_clf[ml].predict(X_val)\n",
    "    print(ml)\n",
    "    print(classification_report(Y_val,Y_prob_pred))"
   ]
  },
  {
   "cell_type": "code",
   "execution_count": 21,
   "id": "535590d5-2069-4e81-b12d-d43d5590963b",
   "metadata": {
    "execution": {
     "iopub.execute_input": "2022-07-28T14:32:21.321808Z",
     "iopub.status.busy": "2022-07-28T14:32:21.320980Z",
     "iopub.status.idle": "2022-07-28T14:32:21.338968Z",
     "shell.execute_reply": "2022-07-28T14:32:21.338217Z"
    },
    "papermill": {
     "duration": 0.033355,
     "end_time": "2022-07-28T14:32:21.340979",
     "exception": false,
     "start_time": "2022-07-28T14:32:21.307624",
     "status": "completed"
    },
    "tags": []
   },
   "outputs": [
    {
     "data": {
      "text/plain": [
       "['artifacts/iteration_2/target_data6.pkl']"
      ]
     },
     "execution_count": 21,
     "metadata": {},
     "output_type": "execute_result"
    }
   ],
   "source": [
    "## Save train data for explainability\n",
    "joblib.dump(X_tr,PATH_MODEL+'train_data6.pkl')\n",
    "joblib.dump(Y_tr,PATH_MODEL+'target_data6.pkl')"
   ]
  },
  {
   "cell_type": "code",
   "execution_count": 22,
   "id": "924eb676-b6e2-432b-ba93-089fd1a89946",
   "metadata": {
    "execution": {
     "iopub.execute_input": "2022-07-28T14:32:21.368227Z",
     "iopub.status.busy": "2022-07-28T14:32:21.367370Z",
     "iopub.status.idle": "2022-07-28T14:32:21.374461Z",
     "shell.execute_reply": "2022-07-28T14:32:21.373333Z"
    },
    "papermill": {
     "duration": 0.02355,
     "end_time": "2022-07-28T14:32:21.376973",
     "exception": false,
     "start_time": "2022-07-28T14:32:21.353423",
     "status": "completed"
    },
    "tags": []
   },
   "outputs": [
    {
     "data": {
      "text/plain": [
       "0.8810060711188205"
      ]
     },
     "execution_count": 22,
     "metadata": {},
     "output_type": "execute_result"
    }
   ],
   "source": [
    "1-Y_val.mean()"
   ]
  }
 ],
 "metadata": {
  "kernelspec": {
   "display_name": "Python 3 (ipykernel)",
   "language": "python",
   "name": "python3"
  },
  "language_info": {
   "codemirror_mode": {
    "name": "ipython",
    "version": 3
   },
   "file_extension": ".py",
   "mimetype": "text/x-python",
   "name": "python",
   "nbconvert_exporter": "python",
   "pygments_lexer": "ipython3",
   "version": "3.7.13"
  },
  "papermill": {
   "default_parameters": {},
   "duration": 733.184839,
   "end_time": "2022-07-28T14:32:24.009234",
   "environment_variables": {},
   "exception": null,
   "input_path": "notebooks/iteration_2/2-model_6.ipynb",
   "output_path": "notebooks/iteration_2/2-model_6-output.ipynb",
   "parameters": {},
   "start_time": "2022-07-28T14:20:10.824395",
   "version": "2.3.4"
  },
  "vscode": {
   "interpreter": {
    "hash": "cfaee8345a7381c4d4eb2d178d3529454f9688cb724b599027e029325603d2a6"
   }
  }
 },
 "nbformat": 4,
 "nbformat_minor": 5
}
