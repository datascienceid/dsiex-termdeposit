{
 "cells": [
  {
   "cell_type": "markdown",
   "id": "e01f2780-5513-4064-83ea-606bed6649b9",
   "metadata": {},
   "source": [
    "# Evaluate the Model\n",
    "\n",
    "Evaluation model with data test (use 7)"
   ]
  },
  {
   "cell_type": "code",
   "execution_count": 16,
   "id": "e5d986aa-edb8-460c-989f-200f547e4452",
   "metadata": {},
   "outputs": [],
   "source": [
    "import yaml\n",
    "import pandas as pd\n",
    "import shap\n",
    "import os\n",
    "import joblib\n",
    "import numpy as np\n",
    "\n",
    "from sklearn.metrics import classification_report,confusion_matrix\n",
    "import seaborn as sns\n",
    "import shap\n",
    "import matplotlib.pyplot as plt"
   ]
  },
  {
   "cell_type": "code",
   "execution_count": 23,
   "id": "f9b81f9a-6641-4778-bad0-df15b38b446e",
   "metadata": {},
   "outputs": [],
   "source": [
    "if 'iter' in os.getcwd().split('/')[-1]:\n",
    "    ######## run manually #############\n",
    "    with open(\"../../config.yaml\", \"r\") as f:\n",
    "        config = yaml.load(f, Loader=yaml.FullLoader)\n",
    "        \n",
    "    if os.name == 'posix' :\n",
    "        PATH_MODEL = config['path']['artifact']+os.getcwd().split('/')[-1]+'/'\n",
    "    else:\n",
    "        PATH_MODEL = config['path']['artifact']+os.getcwd().split('\\\\')[-1]+'/'\n",
    "\n",
    "else:\n",
    "    ######### run with makefile #############\n",
    "    with open(\"config-make.yaml\", \"r\") as f:\n",
    "        config = yaml.load(f, Loader=yaml.FullLoader)\n",
    "\n",
    "    if os.name == 'posix' :\n",
    "        PATH_MODEL = config['path']['artifact']+'iteration_2/'\n",
    "    else:\n",
    "        PATH_MODEL = config['path']['artifact']+'iteration_2/'\n",
    "\n",
    "PATH_RAW = config['path']['raw']\n",
    "PATH_INTERIM = config['path']['interim']\n",
    "PATH_PROCESSED = config['path']['processed']\n",
    "PATH_UDF = config['path']['udf']\n",
    "PATH_FIG = config['path']['figure']"
   ]
  },
  {
   "cell_type": "code",
   "execution_count": null,
   "id": "2f0f031c-50b4-4a29-950f-aafb6ae1f8bb",
   "metadata": {},
   "outputs": [],
   "source": []
  },
  {
   "cell_type": "markdown",
   "id": "f4d04494-a427-4020-888e-797aa7880dc7",
   "metadata": {},
   "source": [
    "## Get data and Model"
   ]
  },
  {
   "cell_type": "code",
   "execution_count": 3,
   "id": "85464c93-19e7-4798-ad8c-0676767514c2",
   "metadata": {},
   "outputs": [],
   "source": [
    "raw_data = pd.read_csv(PATH_INTERIM+'data_tes_iter2.csv')\n",
    "col_cat_load = joblib.load(PATH_MODEL+'cat_names.pkl')\n",
    "col_num_load = joblib.load(PATH_MODEL+'num_names.pkl')\n",
    "\n",
    "col_num = ['age','balance','day',\n",
    "                      'duration','pdays']\n",
    "col_cat2 = ['marital', 'default', 'job2', 'is_contacted', 'contact', 'education']\n",
    "\n",
    "raw_data['y2'] = (raw_data['y'] == 'yes').astype(int)"
   ]
  },
  {
   "cell_type": "code",
   "execution_count": 21,
   "id": "47841590-4a76-4207-b2cc-d91812544eb5",
   "metadata": {},
   "outputs": [],
   "source": [
    "## preprocessing\n",
    "rule_cap_load = joblib.load(PATH_MODEL+'outliers_cap_rules.pkl')\n",
    "scaler_load = joblib.load(PATH_MODEL+'minmax_scaler.pkl')\n",
    "oh_load = joblib.load(PATH_MODEL+'oh_encoding.pkl')\n",
    "\n",
    "raw_data['is_contacted'] = (raw_data['pdays'] != -1).astype(int)\n",
    "raw_data['balance2'] = np.where(raw_data['balance']<0,0, raw_data['balance'])\n",
    "\n",
    "for c2 in col_num:\n",
    "    if c2 == 'balance':\n",
    "        ck = c2+'2'\n",
    "    else:\n",
    "        ck = c2\n",
    "    max_cap = rule_cap_load[c2]\n",
    "    raw_data[ck+'_cap'] = np.where(raw_data[ck] >= max_cap, max_cap, raw_data[ck])\n",
    "    \n",
    "\n",
    "jgroup1 = ['services', 'self-employed', 'entrepreneur', 'housemaid']\n",
    "jgroup2 = ['admin.', 'technician', 'unknown']\n",
    "raw_data['job2'] = raw_data['job'].apply(lambda x : np.where(x in jgroup1,'jgr1',\n",
    "                                                        np.where(x in jgroup2,'jgr2',x)))\n",
    "\n",
    "\n",
    "df_num = pd.DataFrame(scaler_load.transform(raw_data[col_num_load]), columns = col_num_load)\n",
    "df_num['target'] = raw_data['y2'].copy()\n",
    "df_cat = pd.DataFrame(oh_load.transform(\n",
    "        raw_data[col_cat2]).toarray(), columns = col_cat_load)\n",
    "\n",
    "df_interim = pd.concat([df_num,df_cat], axis = 1)"
   ]
  },
  {
   "cell_type": "code",
   "execution_count": 5,
   "id": "69d40b87-cae1-4411-b3a5-5893022cc238",
   "metadata": {},
   "outputs": [],
   "source": [
    "## Best Model\n",
    "best_mdl = joblib.load(PATH_MODEL+'logreg7.pkl')"
   ]
  },
  {
   "cell_type": "code",
   "execution_count": null,
   "id": "37ea1864-417d-46f4-9c15-25fb18d7ccb7",
   "metadata": {},
   "outputs": [],
   "source": []
  },
  {
   "cell_type": "markdown",
   "id": "83e14654-c0fd-4c06-9164-e2ba92197e8d",
   "metadata": {},
   "source": [
    "## Evaluation"
   ]
  },
  {
   "cell_type": "code",
   "execution_count": 6,
   "id": "dfdc2f0d-d372-460c-b90f-1a1ce1b6efe6",
   "metadata": {},
   "outputs": [
    {
     "data": {
      "text/plain": [
       "0.8774517032886004"
      ]
     },
     "execution_count": 6,
     "metadata": {},
     "output_type": "execute_result"
    }
   ],
   "source": [
    "Y_true = raw_data['y2']\n",
    "1-Y_true.mean()"
   ]
  },
  {
   "cell_type": "code",
   "execution_count": 7,
   "id": "5c802737-c2d1-428d-b750-c1048e16dd3a",
   "metadata": {},
   "outputs": [
    {
     "name": "stdout",
     "output_type": "stream",
     "text": [
      "              precision    recall  f1-score   support\n",
      "\n",
      "           0       0.94      0.88      0.91      5950\n",
      "           1       0.42      0.63      0.51       831\n",
      "\n",
      "    accuracy                           0.85      6781\n",
      "   macro avg       0.68      0.76      0.71      6781\n",
      "weighted avg       0.88      0.85      0.86      6781\n",
      "\n"
     ]
    }
   ],
   "source": [
    "## Summary\n",
    "Xd = df_interim[col_num_load+col_cat_load]\n",
    "Y_prob_pred = best_mdl.predict(Xd)\n",
    "print(classification_report(Y_true,Y_prob_pred))"
   ]
  },
  {
   "cell_type": "code",
   "execution_count": 8,
   "id": "9777273e-25c3-451c-adb5-65346b4f5124",
   "metadata": {},
   "outputs": [
    {
     "data": {
      "text/plain": [
       "0.1836012387553458"
      ]
     },
     "execution_count": 8,
     "metadata": {},
     "output_type": "execute_result"
    }
   ],
   "source": [
    "Y_prob_pred.mean()"
   ]
  },
  {
   "cell_type": "code",
   "execution_count": 25,
   "id": "478bb034-9ece-4cbe-9e06-e12609f15fc4",
   "metadata": {},
   "outputs": [
    {
     "data": {
      "image/png": "[encoded data removed]",
      "text/plain": [
       "<Figure size 432x288 with 2 Axes>"
      ]
     },
     "metadata": {
      "needs_background": "light"
     },
     "output_type": "display_data"
    }
   ],
   "source": [
    "cm = confusion_matrix(Y_true,Y_prob_pred)\n",
    "cm2 = (cm.transpose()/cm.sum(axis=1)).transpose()\n",
    "sns.heatmap(cm2,annot = True)\n",
    "plt.savefig(PATH_FIG + 'iteration2_conf_mat.png')"
   ]
  },
  {
   "cell_type": "code",
   "execution_count": null,
   "id": "5feeb898-b219-4e38-babe-1ce90d32ec60",
   "metadata": {},
   "outputs": [],
   "source": []
  },
  {
   "cell_type": "markdown",
   "id": "7715aef6-8b6e-4abd-a00f-c08cf2bbe7d6",
   "metadata": {},
   "source": [
    "## Explainability"
   ]
  },
  {
   "cell_type": "code",
   "execution_count": 10,
   "id": "f4b4a853-92c0-45aa-9ae6-234d550c0c1f",
   "metadata": {},
   "outputs": [],
   "source": [
    "X_tr = joblib.load(PATH_MODEL+'train_data7.pkl')"
   ]
  },
  {
   "cell_type": "code",
   "execution_count": 24,
   "id": "5e084b2a-3f96-4dcd-95ff-1264a74bb7d9",
   "metadata": {},
   "outputs": [
    {
     "data": {
      "image/png": "[encoded data removed]",
      "text/plain": [
       "<Figure size 576x684 with 2 Axes>"
      ]
     },
     "metadata": {
      "needs_background": "light"
     },
     "output_type": "display_data"
    }
   ],
   "source": [
    "masker = shap.maskers.Independent(data=X_tr)\n",
    "explainer = shap.LinearExplainer(best_mdl, masker = masker)\n",
    "shap_values = explainer.shap_values(X_tr)\n",
    "shap.summary_plot(shap_values, features=X_tr, feature_names=X_tr.columns, show=False)\n",
    "plt.savefig(PATH_FIG + 'iteration2_shap.png')"
   ]
  },
  {
   "cell_type": "code",
   "execution_count": null,
   "id": "e69ddb93-db86-44ad-ad84-f63c4023ee57",
   "metadata": {},
   "outputs": [],
   "source": []
  }
 ],
 "metadata": {
  "kernelspec": {
   "display_name": "Python 3 (ipykernel)",
   "language": "python",
   "name": "python3"
  },
  "language_info": {
   "codemirror_mode": {
    "name": "ipython",
    "version": 3
   },
   "file_extension": ".py",
   "mimetype": "text/x-python",
   "name": "python",
   "nbconvert_exporter": "python",
   "pygments_lexer": "ipython3",
   "version": "3.7.13"
  }
 },
 "nbformat": 4,
 "nbformat_minor": 5
}
