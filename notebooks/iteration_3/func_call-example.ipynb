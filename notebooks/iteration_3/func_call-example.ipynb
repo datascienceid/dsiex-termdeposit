{
 "cells": [
  {
   "cell_type": "code",
   "execution_count": 1,
   "id": "1582e0a5-9e28-475c-bebd-903a7c9628c9",
   "metadata": {},
   "outputs": [],
   "source": [
    "import sys\n",
    "sys.path.insert(1,'../../src/')"
   ]
  },
  {
   "cell_type": "code",
   "execution_count": 2,
   "id": "58d0aa0a-b6d5-4206-a640-7f20f41e4cbe",
   "metadata": {},
   "outputs": [],
   "source": [
    "import myfunc"
   ]
  },
  {
   "cell_type": "code",
   "execution_count": 3,
   "id": "95af15ac-26e6-4c59-8ede-4d552cf95012",
   "metadata": {},
   "outputs": [
    {
     "data": {
      "text/plain": [
       "15"
      ]
     },
     "execution_count": 3,
     "metadata": {},
     "output_type": "execute_result"
    }
   ],
   "source": [
    "myfunc.test_func(4)"
   ]
  },
  {
   "cell_type": "code",
   "execution_count": null,
   "id": "1e7841df-e505-4674-a120-8f12bd161515",
   "metadata": {},
   "outputs": [],
   "source": []
  }
 ],
 "metadata": {
  "kernelspec": {
   "display_name": "Python 3 (ipykernel)",
   "language": "python",
   "name": "python3"
  },
  "language_info": {
   "codemirror_mode": {
    "name": "ipython",
    "version": 3
   },
   "file_extension": ".py",
   "mimetype": "text/x-python",
   "name": "python",
   "nbconvert_exporter": "python",
   "pygments_lexer": "ipython3",
   "version": "3.7.13"
  }
 },
 "nbformat": 4,
 "nbformat_minor": 5
}
