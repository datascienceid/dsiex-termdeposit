{
 "cells": [
  {
   "cell_type": "markdown",
   "id": "5d1c3360",
   "metadata": {
    "papermill": {
     "duration": 0.009927,
     "end_time": "2022-07-16T02:44:28.369764",
     "exception": false,
     "start_time": "2022-07-16T02:44:28.359837",
     "status": "completed"
    },
    "tags": []
   },
   "source": [
    "# Modelling v5\n",
    "\n",
    "modelling use the latest exploration\n",
    "\n",
    "# Goal\n",
    "\n",
    "Get the model from the prepared data. With undersampling + sample weight. \n",
    "\n",
    "# Plan\n",
    "\n",
    "Checklist what will be done on the notebook :\n",
    "\n",
    "    [*] Get Data\n",
    "    [*] Modelling\n",
    "\n"
   ]
  },
  {
   "cell_type": "code",
   "execution_count": 1,
   "id": "c039a1e0",
   "metadata": {
    "execution": {
     "iopub.execute_input": "2022-07-16T02:44:28.391717Z",
     "iopub.status.busy": "2022-07-16T02:44:28.390933Z",
     "iopub.status.idle": "2022-07-16T02:44:29.528341Z",
     "shell.execute_reply": "2022-07-16T02:44:29.526883Z"
    },
    "papermill": {
     "duration": 1.151044,
     "end_time": "2022-07-16T02:44:29.530689",
     "exception": false,
     "start_time": "2022-07-16T02:44:28.379645",
     "status": "completed"
    },
    "tags": []
   },
   "outputs": [],
   "source": [
    "import yaml\n",
    "import pandas as pd\n",
    "import matplotlib.pyplot as plt\n",
    "import os\n",
    "import joblib\n",
    "import numpy as np\n",
    "from sklearn.preprocessing import OneHotEncoder, MinMaxScaler\n",
    "from sklearn.model_selection import RandomizedSearchCV\n",
    "from sklearn.metrics import classification_report\n",
    "import seaborn as sns\n",
    "from statsmodels.graphics.mosaicplot import mosaic\n",
    "import time\n",
    "\n",
    "from scipy.stats import uniform,randint\n",
    "import warnings\n",
    "warnings.filterwarnings(\"ignore\")"
   ]
  },
  {
   "cell_type": "code",
   "execution_count": 2,
   "id": "e7fa7fb4",
   "metadata": {
    "execution": {
     "iopub.execute_input": "2022-07-16T02:44:29.542518Z",
     "iopub.status.busy": "2022-07-16T02:44:29.542078Z",
     "iopub.status.idle": "2022-07-16T02:44:29.552889Z",
     "shell.execute_reply": "2022-07-16T02:44:29.551754Z"
    },
    "papermill": {
     "duration": 0.019355,
     "end_time": "2022-07-16T02:44:29.555011",
     "exception": false,
     "start_time": "2022-07-16T02:44:29.535656",
     "status": "completed"
    },
    "tags": []
   },
   "outputs": [],
   "source": [
    "if 'iter' in os.getcwd().split('/')[-1]:\n",
    "    ######## run manually #############\n",
    "    with open(\"../../config.yaml\", \"r\") as f:\n",
    "        config = yaml.load(f, Loader=yaml.FullLoader)\n",
    "        \n",
    "    if os.name == 'posix' :\n",
    "        PATH_MODEL = config['path']['artifact']+os.getcwd().split('/')[-1]+'/'\n",
    "    else:\n",
    "        PATH_MODEL = config['path']['artifact']+os.getcwd().split('\\\\')[-1]+'/'\n",
    "\n",
    "else:\n",
    "    ######### run with makefile #############\n",
    "    with open(\"config-make.yaml\", \"r\") as f:\n",
    "        config = yaml.load(f, Loader=yaml.FullLoader)\n",
    "\n",
    "    if os.name == 'posix' :\n",
    "        PATH_MODEL = config['path']['artifact']+'iteration_2/'\n",
    "    else:\n",
    "        PATH_MODEL = config['path']['artifact']+'iteration_2/'\n",
    "\n",
    "PATH_RAW = config['path']['raw']\n",
    "PATH_INTERIM = config['path']['interim']\n",
    "PATH_PROCESSED = config['path']['processed']\n",
    "PATH_UDF = config['path']['udf']"
   ]
  },
  {
   "cell_type": "code",
   "execution_count": 3,
   "id": "d1d5cdbb",
   "metadata": {
    "execution": {
     "iopub.execute_input": "2022-07-16T02:44:29.566617Z",
     "iopub.status.busy": "2022-07-16T02:44:29.566107Z",
     "iopub.status.idle": "2022-07-16T02:44:29.612226Z",
     "shell.execute_reply": "2022-07-16T02:44:29.610839Z"
    },
    "papermill": {
     "duration": 0.054753,
     "end_time": "2022-07-16T02:44:29.614779",
     "exception": false,
     "start_time": "2022-07-16T02:44:29.560026",
     "status": "completed"
    },
    "tags": []
   },
   "outputs": [],
   "source": [
    "from sklearn.linear_model import LogisticRegression, ElasticNet, SGDClassifier\n",
    "from sklearn.ensemble import RandomForestClassifier, BaggingClassifier, AdaBoostClassifier\n",
    "from sklearn.naive_bayes import GaussianNB\n",
    "from sklearn.gaussian_process import GaussianProcessRegressor"
   ]
  },
  {
   "cell_type": "code",
   "execution_count": null,
   "id": "bbf36be2",
   "metadata": {
    "papermill": {
     "duration": 0.005659,
     "end_time": "2022-07-16T02:44:29.625247",
     "exception": false,
     "start_time": "2022-07-16T02:44:29.619588",
     "status": "completed"
    },
    "tags": []
   },
   "outputs": [],
   "source": []
  },
  {
   "cell_type": "markdown",
   "id": "c5622dbd",
   "metadata": {
    "papermill": {
     "duration": 0.004757,
     "end_time": "2022-07-16T02:44:29.635166",
     "exception": false,
     "start_time": "2022-07-16T02:44:29.630409",
     "status": "completed"
    },
    "tags": []
   },
   "source": [
    "## Get Data"
   ]
  },
  {
   "cell_type": "code",
   "execution_count": 4,
   "id": "99d85dbe",
   "metadata": {
    "execution": {
     "iopub.execute_input": "2022-07-16T02:44:29.701502Z",
     "iopub.status.busy": "2022-07-16T02:44:29.699981Z",
     "iopub.status.idle": "2022-07-16T02:44:29.834143Z",
     "shell.execute_reply": "2022-07-16T02:44:29.832807Z"
    },
    "papermill": {
     "duration": 0.19673,
     "end_time": "2022-07-16T02:44:29.836648",
     "exception": false,
     "start_time": "2022-07-16T02:44:29.639918",
     "status": "completed"
    },
    "tags": []
   },
   "outputs": [],
   "source": [
    "raw_data = pd.read_csv(PATH_PROCESSED+'prep_iter2.csv')\n",
    "col_cat_load = joblib.load(PATH_MODEL+'cat_names.pkl')\n",
    "col_num_load = joblib.load(PATH_MODEL+'num_names.pkl')"
   ]
  },
  {
   "cell_type": "code",
   "execution_count": 5,
   "id": "550a8fce-d629-4a1a-8b2f-58be74dc1016",
   "metadata": {
    "execution": {
     "iopub.execute_input": "2022-07-16T02:44:29.847799Z",
     "iopub.status.busy": "2022-07-16T02:44:29.846739Z",
     "iopub.status.idle": "2022-07-16T02:44:29.870853Z",
     "shell.execute_reply": "2022-07-16T02:44:29.869745Z"
    },
    "papermill": {
     "duration": 0.031635,
     "end_time": "2022-07-16T02:44:29.872669",
     "exception": false,
     "start_time": "2022-07-16T02:44:29.841034",
     "status": "completed"
    },
    "tags": []
   },
   "outputs": [],
   "source": [
    "all_tr = raw_data[raw_data.is_train == 1]\n",
    "down_size = int(len(all_tr[all_tr.target == 1]) * 2)\n",
    "all_tr0 = all_tr[all_tr.target == 0].sample(down_size,random_state = 125)\n",
    "\n",
    "all_tr0['sweight'] = 0.333/0.116\n",
    "all_tr1 = all_tr[all_tr.target == 1]\n",
    "all_tr1['sweight'] = 1\n",
    "\n",
    "all_tr_down = pd.concat([all_tr0,all_tr1])\n",
    "all_tr_down.target.value_counts(normalize = 1)\n",
    "\n",
    "samp_w = all_tr_down['sweight']"
   ]
  },
  {
   "cell_type": "code",
   "execution_count": null,
   "id": "12ef35c4-784b-441f-bc40-784ea7a8983a",
   "metadata": {
    "papermill": {
     "duration": 0.005063,
     "end_time": "2022-07-16T02:44:29.882315",
     "exception": false,
     "start_time": "2022-07-16T02:44:29.877252",
     "status": "completed"
    },
    "tags": []
   },
   "outputs": [],
   "source": []
  },
  {
   "cell_type": "code",
   "execution_count": 6,
   "id": "98080397",
   "metadata": {
    "execution": {
     "iopub.execute_input": "2022-07-16T02:44:29.897827Z",
     "iopub.status.busy": "2022-07-16T02:44:29.896500Z",
     "iopub.status.idle": "2022-07-16T02:44:29.910504Z",
     "shell.execute_reply": "2022-07-16T02:44:29.909298Z"
    },
    "papermill": {
     "duration": 0.023314,
     "end_time": "2022-07-16T02:44:29.912792",
     "exception": false,
     "start_time": "2022-07-16T02:44:29.889478",
     "status": "completed"
    },
    "tags": []
   },
   "outputs": [],
   "source": [
    "X_tr = all_tr_down[col_num_load+col_cat_load]\n",
    "Y_tr = all_tr_down['target'].values\n",
    "\n",
    "X_val = raw_data[raw_data.is_train == 0][col_num_load+col_cat_load]\n",
    "Y_val = raw_data[raw_data.is_train == 0]['target'].values"
   ]
  },
  {
   "cell_type": "code",
   "execution_count": 7,
   "id": "c13217a0",
   "metadata": {
    "execution": {
     "iopub.execute_input": "2022-07-16T02:44:29.924799Z",
     "iopub.status.busy": "2022-07-16T02:44:29.923576Z",
     "iopub.status.idle": "2022-07-16T02:44:29.932589Z",
     "shell.execute_reply": "2022-07-16T02:44:29.931498Z"
    },
    "papermill": {
     "duration": 0.016918,
     "end_time": "2022-07-16T02:44:29.934301",
     "exception": false,
     "start_time": "2022-07-16T02:44:29.917383",
     "status": "completed"
    },
    "tags": []
   },
   "outputs": [
    {
     "data": {
      "text/plain": [
       "(11316, 26)"
      ]
     },
     "execution_count": 7,
     "metadata": {},
     "output_type": "execute_result"
    }
   ],
   "source": [
    "X_tr.shape"
   ]
  },
  {
   "cell_type": "code",
   "execution_count": 8,
   "id": "1901eed4",
   "metadata": {
    "execution": {
     "iopub.execute_input": "2022-07-16T02:44:29.944959Z",
     "iopub.status.busy": "2022-07-16T02:44:29.944675Z",
     "iopub.status.idle": "2022-07-16T02:44:29.952313Z",
     "shell.execute_reply": "2022-07-16T02:44:29.951133Z"
    },
    "papermill": {
     "duration": 0.015453,
     "end_time": "2022-07-16T02:44:29.954352",
     "exception": false,
     "start_time": "2022-07-16T02:44:29.938899",
     "status": "completed"
    },
    "tags": []
   },
   "outputs": [
    {
     "data": {
      "text/plain": [
       "(5765, 26)"
      ]
     },
     "execution_count": 8,
     "metadata": {},
     "output_type": "execute_result"
    }
   ],
   "source": [
    "X_val.shape"
   ]
  },
  {
   "cell_type": "code",
   "execution_count": 9,
   "id": "bc2a5022",
   "metadata": {
    "execution": {
     "iopub.execute_input": "2022-07-16T02:44:29.968840Z",
     "iopub.status.busy": "2022-07-16T02:44:29.968245Z",
     "iopub.status.idle": "2022-07-16T02:44:29.975310Z",
     "shell.execute_reply": "2022-07-16T02:44:29.974111Z"
    },
    "papermill": {
     "duration": 0.018179,
     "end_time": "2022-07-16T02:44:29.977229",
     "exception": false,
     "start_time": "2022-07-16T02:44:29.959050",
     "status": "completed"
    },
    "tags": []
   },
   "outputs": [
    {
     "data": {
      "text/plain": [
       "(5765,)"
      ]
     },
     "execution_count": 9,
     "metadata": {},
     "output_type": "execute_result"
    }
   ],
   "source": [
    "Y_val.shape"
   ]
  },
  {
   "cell_type": "code",
   "execution_count": 10,
   "id": "a21af582-44d6-423f-b994-365a2e7921f3",
   "metadata": {
    "execution": {
     "iopub.execute_input": "2022-07-16T02:44:29.990200Z",
     "iopub.status.busy": "2022-07-16T02:44:29.989601Z",
     "iopub.status.idle": "2022-07-16T02:44:29.996351Z",
     "shell.execute_reply": "2022-07-16T02:44:29.994557Z"
    },
    "papermill": {
     "duration": 0.016319,
     "end_time": "2022-07-16T02:44:29.999262",
     "exception": false,
     "start_time": "2022-07-16T02:44:29.982943",
     "status": "completed"
    },
    "tags": []
   },
   "outputs": [
    {
     "data": {
      "text/plain": [
       "0.3333333333333333"
      ]
     },
     "execution_count": 10,
     "metadata": {},
     "output_type": "execute_result"
    }
   ],
   "source": [
    "Y_tr.mean()"
   ]
  },
  {
   "cell_type": "code",
   "execution_count": 11,
   "id": "d7ee5211-fe70-44f9-a4b9-d704bebb7663",
   "metadata": {
    "execution": {
     "iopub.execute_input": "2022-07-16T02:44:30.014312Z",
     "iopub.status.busy": "2022-07-16T02:44:30.013330Z",
     "iopub.status.idle": "2022-07-16T02:44:30.022157Z",
     "shell.execute_reply": "2022-07-16T02:44:30.020991Z"
    },
    "papermill": {
     "duration": 0.0183,
     "end_time": "2022-07-16T02:44:30.024500",
     "exception": false,
     "start_time": "2022-07-16T02:44:30.006200",
     "status": "completed"
    },
    "tags": []
   },
   "outputs": [
    {
     "data": {
      "text/plain": [
       "5079     2.87069\n",
       "17291    2.87069\n",
       "9206     2.87069\n",
       "4581     2.87069\n",
       "19666    2.87069\n",
       "          ...   \n",
       "38422    1.00000\n",
       "38424    1.00000\n",
       "38425    1.00000\n",
       "38426    1.00000\n",
       "38427    1.00000\n",
       "Name: sweight, Length: 11316, dtype: float64"
      ]
     },
     "execution_count": 11,
     "metadata": {},
     "output_type": "execute_result"
    }
   ],
   "source": [
    "samp_w"
   ]
  },
  {
   "cell_type": "code",
   "execution_count": null,
   "id": "c1385d3e",
   "metadata": {
    "papermill": {
     "duration": 0.005251,
     "end_time": "2022-07-16T02:44:30.035538",
     "exception": false,
     "start_time": "2022-07-16T02:44:30.030287",
     "status": "completed"
    },
    "tags": []
   },
   "outputs": [],
   "source": []
  },
  {
   "cell_type": "markdown",
   "id": "d19ae732",
   "metadata": {
    "papermill": {
     "duration": 0.006013,
     "end_time": "2022-07-16T02:44:30.046698",
     "exception": false,
     "start_time": "2022-07-16T02:44:30.040685",
     "status": "completed"
    },
    "tags": []
   },
   "source": [
    "## Modelling"
   ]
  },
  {
   "cell_type": "code",
   "execution_count": 12,
   "id": "b30be5d6",
   "metadata": {
    "execution": {
     "iopub.execute_input": "2022-07-16T02:44:30.060631Z",
     "iopub.status.busy": "2022-07-16T02:44:30.060196Z",
     "iopub.status.idle": "2022-07-16T02:44:30.069870Z",
     "shell.execute_reply": "2022-07-16T02:44:30.068755Z"
    },
    "papermill": {
     "duration": 0.019645,
     "end_time": "2022-07-16T02:44:30.072033",
     "exception": false,
     "start_time": "2022-07-16T02:44:30.052388",
     "status": "completed"
    },
    "tags": []
   },
   "outputs": [
    {
     "data": {
      "text/plain": [
       "{0: 1, 1: 2.0}"
      ]
     },
     "execution_count": 12,
     "metadata": {},
     "output_type": "execute_result"
    }
   ],
   "source": [
    "proportion_cls = pd.Series(Y_tr).value_counts(normalize = True)\n",
    "scale_pos_w = np.ceil(proportion_cls[0]/proportion_cls[1])\n",
    "cw = {0:1, 1:scale_pos_w}\n",
    "cw\n",
    "# scale_pos_weight for xgboost"
   ]
  },
  {
   "cell_type": "code",
   "execution_count": 13,
   "id": "ff647612",
   "metadata": {
    "execution": {
     "iopub.execute_input": "2022-07-16T02:44:30.084913Z",
     "iopub.status.busy": "2022-07-16T02:44:30.084303Z",
     "iopub.status.idle": "2022-07-16T02:44:30.091998Z",
     "shell.execute_reply": "2022-07-16T02:44:30.090512Z"
    },
    "papermill": {
     "duration": 0.016962,
     "end_time": "2022-07-16T02:44:30.094266",
     "exception": false,
     "start_time": "2022-07-16T02:44:30.077304",
     "status": "completed"
    },
    "tags": []
   },
   "outputs": [
    {
     "data": {
      "text/plain": [
       "0    0.666667\n",
       "1    0.333333\n",
       "dtype: float64"
      ]
     },
     "execution_count": 13,
     "metadata": {},
     "output_type": "execute_result"
    }
   ],
   "source": [
    "proportion_cls"
   ]
  },
  {
   "cell_type": "code",
   "execution_count": 14,
   "id": "2f47e764",
   "metadata": {
    "execution": {
     "iopub.execute_input": "2022-07-16T02:44:30.107396Z",
     "iopub.status.busy": "2022-07-16T02:44:30.107105Z",
     "iopub.status.idle": "2022-07-16T02:44:30.114722Z",
     "shell.execute_reply": "2022-07-16T02:44:30.113421Z"
    },
    "papermill": {
     "duration": 0.016639,
     "end_time": "2022-07-16T02:44:30.116758",
     "exception": false,
     "start_time": "2022-07-16T02:44:30.100119",
     "status": "completed"
    },
    "tags": []
   },
   "outputs": [],
   "source": [
    "base_logreg = LogisticRegression(C=1.9527291, class_weight=cw,solver='sag')\n",
    "all_model = {'sgd5' : SGDClassifier(class_weight=cw,max_iter = 5000,early_stopping=True,warm_start=True,eta0=0.01)\n",
    "            ,'logreg5' : LogisticRegression(class_weight=cw)\n",
    "            ,'rf5': RandomForestClassifier(random_state=234) ## not use class weight\n",
    "            ,'nb5':GaussianNB(priors=[0.6667,0.3333])\n",
    "            ,'baglog5': BaggingClassifier(base_estimator=base_logreg, random_state=234)\n",
    "            ,'adab_tree5':AdaBoostClassifier(random_state=234)\n",
    "            }"
   ]
  },
  {
   "cell_type": "code",
   "execution_count": 15,
   "id": "78276dfa",
   "metadata": {
    "execution": {
     "iopub.execute_input": "2022-07-16T02:44:30.131200Z",
     "iopub.status.busy": "2022-07-16T02:44:30.130920Z",
     "iopub.status.idle": "2022-07-16T02:44:30.149085Z",
     "shell.execute_reply": "2022-07-16T02:44:30.147853Z"
    },
    "papermill": {
     "duration": 0.0286,
     "end_time": "2022-07-16T02:44:30.151177",
     "exception": false,
     "start_time": "2022-07-16T02:44:30.122577",
     "status": "completed"
    },
    "tags": []
   },
   "outputs": [],
   "source": [
    "param_options = {'logreg5' : dict(C=uniform(loc=0, scale=2)\n",
    "                                 ,penalty=['l2', 'l1']\n",
    "                                 ,solver=['liblinear', 'sag'])\n",
    "                 ,'rf5' : dict(n_estimators=randint(300, 500)\n",
    "                             ,max_depth=randint(20, 50)\n",
    "                             ,min_samples_split=randint(5, 20)\n",
    "                             ,min_samples_leaf=randint(5, 20)\n",
    "                             ,min_weight_fraction_leaf=uniform(loc=0, scale=0.4)\n",
    "                             ,min_impurity_decrease=uniform(loc=0, scale=0.3))\n",
    "                 ,'nb5' : dict(var_smoothing = uniform(loc=1e-8, scale=1e-2))\n",
    "                 ,'sgd5' : dict(loss=['hinge', 'squared_hinge', 'perceptron']\n",
    "                                ,penalty=['l2', 'l1']\n",
    "                                ,alpha=uniform(loc=0.1, scale=0.95)\n",
    "                                ,l1_ratio=uniform(loc=0.1, scale=0.9)\n",
    "                                ,learning_rate=['constant','optimal','invscaling','adaptive'])\n",
    "                 ,'baglog5' : dict(n_estimators=randint(4, 45)\n",
    "                                   ,max_samples=uniform(loc=0.3,scale=0.7)\n",
    "                                   ,max_features=uniform(loc=0.3,scale=0.7)\n",
    "                                   ,warm_start=[False,True])\n",
    "                 ,'adab_tree5' : dict(n_estimators=randint(4, 100)\n",
    "                                   ,learning_rate=uniform(loc=0.3,scale=0.7)\n",
    "                                  )\n",
    "                }\n",
    "\n",
    " # min_weight_fraction_leaf must in [0, 0.5]"
   ]
  },
  {
   "cell_type": "code",
   "execution_count": 1,
   "id": "35b5bb7a",
   "metadata": {
    "execution": {
     "iopub.execute_input": "2022-07-16T02:44:30.164914Z",
     "iopub.status.busy": "2022-07-16T02:44:30.164292Z",
     "iopub.status.idle": "2022-07-16T03:23:26.737927Z",
     "shell.execute_reply": "2022-07-16T03:23:26.736763Z"
    },
    "jupyter": {
     "outputs_hidden": true
    },
    "papermill": {
     "duration": 2336.720721,
     "end_time": "2022-07-16T03:23:26.877840",
     "exception": false,
     "start_time": "2022-07-16T02:44:30.157119",
     "status": "completed"
    },
    "tags": []
   },
   "outputs": [],
   "source": [
    "## scoring\n",
    "## https://scikit-learn.org/stable/modules/model_evaluation.html#scoring-parameter\n",
    "best_clf = {}\n",
    "best_scr = {}\n",
    "sla_model = {}\n",
    "for mdl in all_model.keys():\n",
    "    L1 = time.time()\n",
    "    clf = all_model[mdl]\n",
    "    parm = param_options[mdl]\n",
    "    RS = RandomizedSearchCV(clf, parm, n_iter = 300, cv = 5, scoring = 'roc_auc',n_jobs = 10)\n",
    "        \n",
    "    RS.fit(X_tr,Y_tr, sample_weight=samp_w)\n",
    "    \n",
    "    best_clf[mdl] = RS.best_estimator_\n",
    "    best_scr[mdl] = RS.best_score_\n",
    "    diff_time = round((time.time()-L1)/60, 2)\n",
    "    \n",
    "    joblib.dump(best_clf[mdl],PATH_MODEL+mdl+'.pkl')\n",
    "    \n",
    "    print(mdl, 'is done in ',diff_time, ' minutes')\n",
    "    sla_model[mdl] = diff_time"
   ]
  },
  {
   "cell_type": "code",
   "execution_count": 17,
   "id": "d6a5430d",
   "metadata": {
    "execution": {
     "iopub.execute_input": "2022-07-16T03:23:27.159742Z",
     "iopub.status.busy": "2022-07-16T03:23:27.159284Z",
     "iopub.status.idle": "2022-07-16T03:23:27.167928Z",
     "shell.execute_reply": "2022-07-16T03:23:27.166668Z"
    },
    "papermill": {
     "duration": 0.152691,
     "end_time": "2022-07-16T03:23:27.170209",
     "exception": false,
     "start_time": "2022-07-16T03:23:27.017518",
     "status": "completed"
    },
    "tags": []
   },
   "outputs": [
    {
     "data": {
      "text/plain": [
       "{'sgd5': 0.3,\n",
       " 'logreg5': 1.16,\n",
       " 'rf5': 4.77,\n",
       " 'nb5': 0.11,\n",
       " 'baglog5': 30.69,\n",
       " 'adab_tree5': 1.9}"
      ]
     },
     "execution_count": 17,
     "metadata": {},
     "output_type": "execute_result"
    }
   ],
   "source": [
    "sla_model"
   ]
  },
  {
   "cell_type": "code",
   "execution_count": 18,
   "id": "b3d539b5",
   "metadata": {
    "execution": {
     "iopub.execute_input": "2022-07-16T03:23:27.455988Z",
     "iopub.status.busy": "2022-07-16T03:23:27.454835Z",
     "iopub.status.idle": "2022-07-16T03:23:27.463602Z",
     "shell.execute_reply": "2022-07-16T03:23:27.462037Z"
    },
    "papermill": {
     "duration": 0.156285,
     "end_time": "2022-07-16T03:23:27.466245",
     "exception": false,
     "start_time": "2022-07-16T03:23:27.309960",
     "status": "completed"
    },
    "tags": []
   },
   "outputs": [
    {
     "data": {
      "text/plain": [
       "{'sgd5': 0.834447230809346,\n",
       " 'logreg5': 0.8300272223819182,\n",
       " 'rf5': 0.8085655407819272,\n",
       " 'nb5': 0.759538962755866,\n",
       " 'baglog5': 0.8372180899763702,\n",
       " 'adab_tree5': 0.8434293655449796}"
      ]
     },
     "execution_count": 18,
     "metadata": {},
     "output_type": "execute_result"
    }
   ],
   "source": [
    "best_scr"
   ]
  },
  {
   "cell_type": "code",
   "execution_count": 19,
   "id": "42743e3e",
   "metadata": {
    "execution": {
     "iopub.execute_input": "2022-07-16T03:23:27.742598Z",
     "iopub.status.busy": "2022-07-16T03:23:27.742225Z",
     "iopub.status.idle": "2022-07-16T03:23:27.755144Z",
     "shell.execute_reply": "2022-07-16T03:23:27.753531Z"
    },
    "papermill": {
     "duration": 0.153018,
     "end_time": "2022-07-16T03:23:27.757362",
     "exception": false,
     "start_time": "2022-07-16T03:23:27.604344",
     "status": "completed"
    },
    "tags": []
   },
   "outputs": [
    {
     "data": {
      "text/plain": [
       "{'sgd5': SGDClassifier(alpha=0.8573936094816896, class_weight={0: 1, 1: 2.0},\n",
       "               early_stopping=True, eta0=0.01, l1_ratio=0.5412478934296541,\n",
       "               learning_rate='adaptive', max_iter=5000, warm_start=True),\n",
       " 'logreg5': LogisticRegression(C=0.05326218898689827, class_weight={0: 1, 1: 2.0},\n",
       "                    penalty='l1', solver='liblinear'),\n",
       " 'rf5': RandomForestClassifier(max_depth=30, min_impurity_decrease=0.003454023513384952,\n",
       "                        min_samples_leaf=18, min_samples_split=10,\n",
       "                        min_weight_fraction_leaf=0.010148696237279743,\n",
       "                        n_estimators=360, random_state=234),\n",
       " 'nb5': GaussianNB(priors=[0.6667, 0.3333], var_smoothing=0.007980873590410475),\n",
       " 'baglog5': BaggingClassifier(base_estimator=LogisticRegression(C=1.9527291,\n",
       "                                                     class_weight={0: 1, 1: 2.0},\n",
       "                                                     solver='sag'),\n",
       "                   max_features=0.9971763251550951,\n",
       "                   max_samples=0.7338450724405401, n_estimators=18,\n",
       "                   random_state=234),\n",
       " 'adab_tree5': AdaBoostClassifier(learning_rate=0.7156451694564869, n_estimators=88,\n",
       "                    random_state=234)}"
      ]
     },
     "execution_count": 19,
     "metadata": {},
     "output_type": "execute_result"
    }
   ],
   "source": [
    "best_clf"
   ]
  },
  {
   "cell_type": "code",
   "execution_count": null,
   "id": "8eaf7f58",
   "metadata": {
    "papermill": {
     "duration": 0.13796,
     "end_time": "2022-07-16T03:23:28.030899",
     "exception": false,
     "start_time": "2022-07-16T03:23:27.892939",
     "status": "completed"
    },
    "tags": []
   },
   "outputs": [],
   "source": []
  },
  {
   "cell_type": "markdown",
   "id": "d8e540d1",
   "metadata": {
    "papermill": {
     "duration": 0.133518,
     "end_time": "2022-07-16T03:23:28.296103",
     "exception": false,
     "start_time": "2022-07-16T03:23:28.162585",
     "status": "completed"
    },
    "tags": []
   },
   "source": [
    "## Evaluation\n",
    "\n",
    "The SVM is best so far, but there is no predict proba."
   ]
  },
  {
   "cell_type": "code",
   "execution_count": 20,
   "id": "521ca288",
   "metadata": {
    "execution": {
     "iopub.execute_input": "2022-07-16T03:23:28.573101Z",
     "iopub.status.busy": "2022-07-16T03:23:28.571524Z",
     "iopub.status.idle": "2022-07-16T03:23:29.093427Z",
     "shell.execute_reply": "2022-07-16T03:23:29.092143Z"
    },
    "papermill": {
     "duration": 0.665185,
     "end_time": "2022-07-16T03:23:29.096883",
     "exception": false,
     "start_time": "2022-07-16T03:23:28.431698",
     "status": "completed"
    },
    "tags": []
   },
   "outputs": [
    {
     "name": "stdout",
     "output_type": "stream",
     "text": [
      "sgd5\n",
      "              precision    recall  f1-score   support\n",
      "\n",
      "           0       0.88      1.00      0.94      5079\n",
      "           1       0.00      0.00      0.00       686\n",
      "\n",
      "    accuracy                           0.88      5765\n",
      "   macro avg       0.44      0.50      0.47      5765\n",
      "weighted avg       0.78      0.88      0.83      5765\n",
      "\n",
      "logreg5\n",
      "              precision    recall  f1-score   support\n",
      "\n",
      "           0       0.93      0.93      0.93      5079\n",
      "           1       0.48      0.51      0.50       686\n",
      "\n",
      "    accuracy                           0.88      5765\n",
      "   macro avg       0.71      0.72      0.71      5765\n",
      "weighted avg       0.88      0.88      0.88      5765\n",
      "\n",
      "rf5\n",
      "              precision    recall  f1-score   support\n",
      "\n",
      "           0       0.88      1.00      0.94      5079\n",
      "           1       0.00      0.00      0.00       686\n",
      "\n",
      "    accuracy                           0.88      5765\n",
      "   macro avg       0.44      0.50      0.47      5765\n",
      "weighted avg       0.78      0.88      0.83      5765\n",
      "\n",
      "nb5\n",
      "              precision    recall  f1-score   support\n",
      "\n",
      "           0       0.95      0.76      0.84      5079\n",
      "           1       0.27      0.68      0.39       686\n",
      "\n",
      "    accuracy                           0.75      5765\n",
      "   macro avg       0.61      0.72      0.61      5765\n",
      "weighted avg       0.87      0.75      0.79      5765\n",
      "\n",
      "baglog5\n",
      "              precision    recall  f1-score   support\n",
      "\n",
      "           0       0.93      0.93      0.93      5079\n",
      "           1       0.50      0.50      0.50       686\n",
      "\n",
      "    accuracy                           0.88      5765\n",
      "   macro avg       0.72      0.72      0.72      5765\n",
      "weighted avg       0.88      0.88      0.88      5765\n",
      "\n",
      "adab_tree5\n",
      "              precision    recall  f1-score   support\n",
      "\n",
      "           0       0.92      0.96      0.94      5079\n",
      "           1       0.53      0.35      0.42       686\n",
      "\n",
      "    accuracy                           0.89      5765\n",
      "   macro avg       0.73      0.65      0.68      5765\n",
      "weighted avg       0.87      0.89      0.88      5765\n",
      "\n"
     ]
    }
   ],
   "source": [
    "for ml in best_clf.keys():\n",
    "    Y_prob_pred = best_clf[ml].predict(X_val)\n",
    "    print(ml)\n",
    "    print(classification_report(Y_val,Y_prob_pred))"
   ]
  },
  {
   "cell_type": "code",
   "execution_count": null,
   "id": "535590d5-2069-4e81-b12d-d43d5590963b",
   "metadata": {
    "papermill": {
     "duration": 0.136289,
     "end_time": "2022-07-16T03:23:29.383093",
     "exception": false,
     "start_time": "2022-07-16T03:23:29.246804",
     "status": "completed"
    },
    "tags": []
   },
   "outputs": [],
   "source": []
  },
  {
   "cell_type": "code",
   "execution_count": 21,
   "id": "924eb676-b6e2-432b-ba93-089fd1a89946",
   "metadata": {
    "execution": {
     "iopub.execute_input": "2022-07-16T03:23:29.675369Z",
     "iopub.status.busy": "2022-07-16T03:23:29.675001Z",
     "iopub.status.idle": "2022-07-16T03:23:29.682502Z",
     "shell.execute_reply": "2022-07-16T03:23:29.681400Z"
    },
    "papermill": {
     "duration": 0.162167,
     "end_time": "2022-07-16T03:23:29.684672",
     "exception": false,
     "start_time": "2022-07-16T03:23:29.522505",
     "status": "completed"
    },
    "tags": []
   },
   "outputs": [
    {
     "data": {
      "text/plain": [
       "0.8810060711188205"
      ]
     },
     "execution_count": 21,
     "metadata": {},
     "output_type": "execute_result"
    }
   ],
   "source": [
    "1-Y_val.mean()"
   ]
  }
 ],
 "metadata": {
  "kernelspec": {
   "display_name": "Python 3 (ipykernel)",
   "language": "python",
   "name": "python3"
  },
  "language_info": {
   "codemirror_mode": {
    "name": "ipython",
    "version": 3
   },
   "file_extension": ".py",
   "mimetype": "text/x-python",
   "name": "python",
   "nbconvert_exporter": "python",
   "pygments_lexer": "ipython3",
   "version": "3.7.13"
  },
  "papermill": {
   "default_parameters": {},
   "duration": 2345.901128,
   "end_time": "2022-07-16T03:23:32.470892",
   "environment_variables": {},
   "exception": null,
   "input_path": "notebooks/iteration_2/2-model_5.ipynb",
   "output_path": "notebooks/iteration_2/2-model_5-output.ipynb",
   "parameters": {},
   "start_time": "2022-07-16T02:44:26.569764",
   "version": "2.3.4"
  },
  "vscode": {
   "interpreter": {
    "hash": "cfaee8345a7381c4d4eb2d178d3529454f9688cb724b599027e029325603d2a6"
   }
  }
 },
 "nbformat": 4,
 "nbformat_minor": 5
}
